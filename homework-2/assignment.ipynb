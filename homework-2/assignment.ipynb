{
 "cells": [
  {
   "cell_type": "markdown",
   "metadata": {},
   "source": [
    "# Searching Unstructured and Structured Data #\n",
    "## Assignment 1: Retrieval models [100 points] ##\n",
    "**TA**: Nikos Voskarides (n.voskarides@uva.nl)"
   ]
  },
  {
   "cell_type": "markdown",
   "metadata": {},
   "source": [
    "In this assignment you will get familiar with basic information retrieval concepts. You will implement and evaluate different information retrieval ranking models and evaluate their performance.\n",
    "\n",
    "We provide you with a Indri index. To query the index, you'll use a Python package ([pyndri](https://github.com/cvangysel/pyndri)) that allows easy access to the underlying document statistics.\n",
    "\n",
    "For evaluation you'll use the [TREC Eval](https://github.com/usnistgov/trec_eval) utility, provided by the National Institute of Standards and Technology of the United States. TREC Eval is the de facto standard way to compute Information Retrieval measures and is frequently referenced in scientific papers.\n",
    "\n",
    "This is a **groups-of-three assignment**, the deadline is **Monday, 22/1, at 23:59**. Code quality, informative comments and convincing analysis of the results will be considered when grading. Submission should be done through blackboard, questions can be asked on the course [Piazza](https://piazza.com/class/ixoz63p156g1ts).\n",
    "\n",
    "### Technicalities (must-read!) ###\n",
    "\n",
    "The assignment directory is organized as follows:\n",
    "   * `./assignment.ipynb` (this file): the description of the assignment.\n",
    "   * `./index/`: the index we prepared for you.\n",
    "   * `./ap_88_90/`: directory with ground-truth and evaluation sets:\n",
    "      * `qrel_test`: test query relevance collection (**test set**).\n",
    "      * `qrel_validation`: validation query relevance collection (**validation set**).\n",
    "      * `topics_title`: semicolon-separated file with query identifiers and terms.\n",
    "\n",
    "You will need the following software packages (tested with Python 3.5 inside [Anaconda](https://conda.io/docs/user-guide/install/index.html)):\n",
    "   * Python 3.5 and Jupyter\n",
    "   * Indri + Pyndri (Follow the installation instructions [here](https://github.com/nickvosk/pyndri/blob/master/README.md))\n",
    "   * gensim [link](https://radimrehurek.com/gensim/install.html)\n",
    "   * TREC Eval [link](https://github.com/usnistgov/trec_eval)"
   ]
  },
  {
   "cell_type": "markdown",
   "metadata": {},
   "source": [
    "### TREC Eval primer ###\n",
    "The TREC Eval utility can be downloaded and compiled as follows:\n",
    "\n",
    "    git clone https://github.com/usnistgov/trec_eval.git\n",
    "    cd trec_eval\n",
    "    make\n",
    "\n",
    "TREC Eval computes evaluation scores given two files: ground-truth information regarding relevant documents, named *query relevance* or *qrel*, and a ranking of documents for a set of queries, referred to as a *run*. The *qrel* will be supplied by us and should not be changed. For every retrieval model (or combinations thereof) you will generate a run of the top-1000 documents for every query. The format of the *run* file is as follows:\n",
    "\n",
    "    $query_identifier Q0 $document_identifier $rank_of_document_for_query $query_document_similarity $run_identifier\n",
    "    \n",
    "where\n",
    "   * `$query_identifier` is the unique identifier corresponding to a query (usually this follows a sequential numbering).\n",
    "   * `Q0` is a legacy field that you can ignore.\n",
    "   * `$document_identifier` corresponds to the unique identifier of a document (e.g., APXXXXXXX where AP denotes the collection and the Xs correspond to a unique numerical identifier).\n",
    "   * `$rank_of_document_for_query` denotes the rank of the document for the particular query. This field is ignored by TREC Eval and is only maintained for legacy support. The ranks are computed by TREC Eval itself using the `$query_document_similarity` field (see next). However, it remains good practice to correctly compute this field.\n",
    "   * `$query_document_similarity` is a score indicating the similarity between query and document where a higher score denotes greater similarity.\n",
    "   * `$run_identifier` is an identifier of the run. This field is for your own convenience and has no purpose beyond bookkeeping.\n",
    "   \n",
    "For example, say we have two queries: `Q1` and `Q2` and we rank three documents (`DOC1`, `DOC2`, `DOC3`). For query `Q1`, we find the following similarity scores `score(Q1, DOC1) = 1.0`, `score(Q1, DOC2) = 0.5`, `score(Q1, DOC3) = 0.75`; and for `Q2`: `score(Q2, DOC1) = -0.1`, `score(Q2, DOC2) = 1.25`, `score(Q1, DOC3) = 0.0`. We can generate run using the following snippet:"
   ]
  },
  {
   "cell_type": "code",
   "execution_count": 134,
   "metadata": {
    "scrolled": false
   },
   "outputs": [
    {
     "name": "stdout",
     "output_type": "stream",
     "text": [
      "Q1 Q0 DOC1 1 1.0 example\n",
      "Q1 Q0 DOC3 2 0.75 example\n",
      "Q1 Q0 DOC2 3 0.5 example\n",
      "Q2 Q0 DOC2 1 1.25 example\n",
      "Q2 Q0 DOC3 2 0.0 example\n",
      "Q2 Q0 DOC1 3 -0.1 example\n"
     ]
    }
   ],
   "source": [
    "import logging\n",
    "import sys\n",
    "import os\n",
    "import numpy as np\n",
    "def write_run(model_name, data, out_f,\n",
    "              max_objects_per_query=sys.maxsize,\n",
    "              skip_sorting=False):\n",
    "    \"\"\"\n",
    "    Write a run to an output file.\n",
    "    Parameters:\n",
    "        - model_name: identifier of run.\n",
    "        - data: dictionary mapping topic_id to object_assesments;\n",
    "            object_assesments is an iterable (list or tuple) of\n",
    "            (relevance, object_id) pairs.\n",
    "            The object_assesments iterable is sorted by decreasing order.\n",
    "        - out_f: output file stream.\n",
    "        - max_objects_per_query: cut-off for number of objects per query.\n",
    "    \"\"\"\n",
    "    for subject_id, object_assesments in data.items():\n",
    "        if not object_assesments:\n",
    "            logging.warning('Received empty ranking for %s; ignoring.',\n",
    "                            subject_id)\n",
    "\n",
    "            continue\n",
    "\n",
    "        # Probe types, to make sure everything goes alright.\n",
    "        # assert isinstance(object_assesments[0][0], float) or \\\n",
    "        #     isinstance(object_assesments[0][0], np.float32)\n",
    "        assert isinstance(object_assesments[0][1], str) or \\\n",
    "            isinstance(object_assesments[0][1], bytes)\n",
    "\n",
    "        if not skip_sorting:\n",
    "            object_assesments = sorted(object_assesments, reverse=True)\n",
    "\n",
    "        if max_objects_per_query < sys.maxsize:\n",
    "            object_assesments = object_assesments[:max_objects_per_query]\n",
    "\n",
    "        if isinstance(subject_id, bytes):\n",
    "            subject_id = subject_id.decode('utf8')\n",
    "\n",
    "        for rank, (relevance, object_id) in enumerate(object_assesments):\n",
    "            if isinstance(object_id, bytes):\n",
    "                object_id = object_id.decode('utf8')\n",
    "\n",
    "            out_f.write(\n",
    "                '{subject} Q0 {object} {rank} {relevance} '\n",
    "                '{model_name}\\n'.format(\n",
    "                    subject=subject_id,\n",
    "                    object=object_id,\n",
    "                    rank=rank + 1,\n",
    "                    relevance=relevance,\n",
    "                    model_name=model_name))\n",
    "            \n",
    "            \n",
    "# The following writes the run to standard output.\n",
    "# In your code, you should write the runs to local\n",
    "# storage in order to pass them to trec_eval.\n",
    "write_run(\n",
    "    model_name='example',\n",
    "    data={\n",
    "        'Q1': ((1.0, 'DOC1'), (0.5, 'DOC2'), (0.75, 'DOC3')),\n",
    "        'Q2': ((-0.1, 'DOC1'), (1.25, 'DOC2'), (0.0, 'DOC3')),\n",
    "    },\n",
    "    out_f=sys.stdout,\n",
    "    max_objects_per_query=1000)"
   ]
  },
  {
   "cell_type": "markdown",
   "metadata": {},
   "source": [
    "Now, imagine that we know that `DOC1` is relevant and `DOC3` is non-relevant for `Q1`. In addition, for `Q2` we only know of the relevance of `DOC3`. The query relevance file looks like:\n",
    "\n",
    "    Q1 0 DOC1 1\n",
    "    Q1 0 DOC3 0\n",
    "    Q2 0 DOC3 1\n",
    "    \n",
    "We store the run and qrel in files `example.run` and `example.qrel` respectively on disk. We can now use TREC Eval to compute evaluation measures. In this example, we're only interested in Mean Average Precision and we'll only show this below for brevity. However, TREC Eval outputs much more information such as NDCG, recall, precision, etc.\n",
    "\n",
    "    $ trec_eval -m all_trec -q example.qrel example.run | grep -E \"^map\\s\"\n",
    "    > map                   \tQ1\t1.0000\n",
    "    > map                   \tQ2\t0.5000\n",
    "    > map                   \tall\t0.7500\n",
    "    \n",
    "Now that we've discussed the output format of rankings and how you can compute evaluation measures from these rankings, we'll now proceed with an overview of the indexing framework you'll use."
   ]
  },
  {
   "cell_type": "markdown",
   "metadata": {},
   "source": [
    "### Pyndri primer ###\n",
    "For this assignment you will use [Pyndri](https://github.com/cvangysel/pyndri) [[1](https://arxiv.org/abs/1701.00749)], a python interface for [Indri](https://www.lemurproject.org/indri.php). We have indexed the document collection and you can query the index using Pyndri. We will start by giving you some examples of what Pyndri can do:\n",
    "\n",
    "First we read the document collection index with Pyndri:"
   ]
  },
  {
   "cell_type": "code",
   "execution_count": 135,
   "metadata": {
    "collapsed": true,
    "scrolled": true
   },
   "outputs": [],
   "source": [
    "import pyndri\n",
    "\n",
    "index = pyndri.Index('index/')"
   ]
  },
  {
   "cell_type": "markdown",
   "metadata": {},
   "source": [
    "The loaded index can be used to access a collection of documents in an easy manner. We'll give you some examples to get some idea of what it can do, it is up to you to figure out how to use it for the remainder of the assignment.\n",
    "\n",
    "First let's look at the number of documents, since Pyndri indexes the documents using incremental identifiers we can simply take the lowest index and the maximum document and consider the difference:"
   ]
  },
  {
   "cell_type": "code",
   "execution_count": 136,
   "metadata": {},
   "outputs": [
    {
     "name": "stdout",
     "output_type": "stream",
     "text": [
      "There are 164597 documents in this collection.\n"
     ]
    }
   ],
   "source": [
    "print(\"There are %d documents in this collection.\" % (index.maximum_document() - index.document_base()))"
   ]
  },
  {
   "cell_type": "markdown",
   "metadata": {},
   "source": [
    "Let's take the first document out of the collection and take a look at it:"
   ]
  },
  {
   "cell_type": "code",
   "execution_count": 137,
   "metadata": {
    "scrolled": true
   },
   "outputs": [
    {
     "name": "stdout",
     "output_type": "stream",
     "text": [
      "('AP890425-0001', (1360, 192, 363, 0, 880, 0, 200, 0, 894, 412, 92160, 3, 192, 0, 363, 34, 1441, 0, 174134, 0, 200, 0, 894, 412, 2652, 0, 810, 107, 49, 4903, 420, 0, 1, 48, 35, 489, 0, 35, 687, 192, 243, 0, 249311, 1877, 0, 1651, 1174, 0, 2701, 117, 412, 0, 810, 391, 245233, 1225, 5838, 16, 0, 233156, 3496, 0, 393, 17, 0, 2435, 4819, 930, 0, 0, 200, 0, 894, 0, 22, 398, 145, 0, 3, 271, 115, 0, 1176, 2777, 292, 0, 725, 192, 0, 0, 50046, 0, 1901, 1130, 0, 192, 0, 408, 0, 243779, 0, 0, 553, 192, 0, 363, 0, 3747, 0, 0, 0, 0, 1176, 0, 1239, 0, 0, 1115, 17, 0, 0, 585, 192, 1963, 0, 0, 412, 54356, 0, 773, 0, 0, 0, 192, 0, 0, 1130, 0, 363, 0, 545, 192, 0, 1174, 1901, 1130, 0, 4, 398, 145, 39, 0, 577, 0, 355, 0, 491, 0, 6025, 0, 0, 193156, 88, 34, 437, 0, 0, 1852, 0, 828, 0, 1588, 0, 0, 0, 2615, 0, 0, 107, 49, 420, 0, 0, 190, 7, 714, 2701, 0, 237, 192, 157, 0, 412, 34, 437, 0, 0, 200, 6025, 26, 0, 0, 0, 0, 363, 0, 22, 398, 145, 0, 200, 638, 126222, 6018, 0, 880, 0, 0, 161, 0, 0, 319, 894, 2701, 0, 0, 0, 301, 1200, 0, 363, 251, 430, 0, 207, 0, 76143, 1773, 0, 243779, 0, 0, 72030, 0, 55, 4903, 420, 0, 2701, 1496, 420, 0, 25480, 0, 420, 0, 0, 200, 0, 392, 2949, 0, 1738, 0, 61, 0, 71, 79, 0, 200, 903, 0, 188, 53, 6, 0, 476, 2, 0, 2028, 97, 334, 0, 0, 200, 178, 0, 0, 107, 49, 0, 214, 0, 0, 0, 114, 3866, 1505, 195, 79893, 574, 0, 198, 2160, 0, 192, 0, 420, 0, 384, 0, 2701, 0, 114, 6025, 1549, 74627, 0, 238, 0, 0, 0, 3729, 0, 192, 0, 79893, 0, 0, 729, 3141, 129, 0, 192, 196764, 39, 0, 0, 714, 63, 0, 55, 420, 3356, 0, 0, 117, 412, 0, 0, 79758, 0, 1901, 1130, 4067, 2133, 0, 0, 875, 72, 0, 0, 336, 2789, 0, 0, 25, 920, 121, 104, 0, 3162, 0, 0, 420, 0, 2178, 0, 0, 386, 192545, 159306, 0, 0, 0, 1914, 0, 200, 0, 1794, 0, 2654, 0, 0, 25480, 420, 0, 2795, 0, 0, 229690, 0, 32559, 0, 0, 392, 253919, 0, 0, 0, 0, 379, 0, 0, 114, 0, 553, 10, 0, 1128, 0, 23610, 248, 151, 0, 418, 0, 651, 0, 36, 0, 0, 645, 0, 0, 513, 0, 0, 25480, 420, 34, 0, 0, 0, 15, 0, 3348, 0, 3496, 0, 35, 687, 0, 1, 48, 0, 0, 2803, 0, 0, 714, 1274, 0, 114, 62, 1006, 70268, 1200, 2357, 0, 497, 0, 497, 125, 0, 913, 4647, 3985, 0, 0, 3370, 245233, 0, 0, 687, 0, 4, 1288, 0, 0, 0, 0, 715, 0, 0, 687, 583, 0, 0, 1627, 0, 0, 11, 357, 1359, 0, 849, 0, 0, 1518, 462, 245233, 0, 0, 0, 0, 0, 0, 171, 70268, 0))\n"
     ]
    }
   ],
   "source": [
    "example_document = index.document(index.document_base())\n",
    "print(example_document)"
   ]
  },
  {
   "cell_type": "markdown",
   "metadata": {},
   "source": [
    "Here we see a document consists of two things, a string representing the external document identifier and an integer list representing the identifiers of words that make up the document. Pyndri uses integer representations for words or terms, thus a token_id is an integer that represents a word whereas the token is the actual text of the word/term. Every id has a unique token and vice versa with the exception of stop words: words so common that there are uninformative, all of these receive the zero id.\n",
    "\n",
    "To see what some ids and their matching tokens we take a look at the dictionary of the index:"
   ]
  },
  {
   "cell_type": "code",
   "execution_count": 138,
   "metadata": {},
   "outputs": [
    {
     "name": "stdout",
     "output_type": "stream",
     "text": [
      "[(1, 'new'), (2, 'percent'), (3, 'two'), (4, '1'), (5, 'people'), (6, 'million'), (7, '000'), (8, 'government'), (9, 'president'), (10, 'years'), (11, 'state'), (12, '2'), (13, 'states'), (14, 'three'), (15, 'time')]\n"
     ]
    }
   ],
   "source": [
    "token2id, id2token, _ = index.get_dictionary()\n",
    "print(list(id2token.items())[:15])"
   ]
  },
  {
   "cell_type": "markdown",
   "metadata": {},
   "source": [
    "Using this dictionary we can see the tokens for the (non-stop) words in our example document:"
   ]
  },
  {
   "cell_type": "code",
   "execution_count": 139,
   "metadata": {},
   "outputs": [
    {
     "name": "stdout",
     "output_type": "stream",
     "text": [
      "['52', 'students', 'arrested', 'takeover', 'university', 'massachusetts', 'building', 'fifty', 'two', 'students', 'arrested', 'tuesday', 'evening', 'occupying', 'university', 'massachusetts', 'building', 'overnight', 'protest', 'defense', 'department', 'funded', 'research', 'new', 'york', 'city', 'thousands', 'city', 'college', 'students', 'got', 'unscheduled', 'holiday', 'demonstrators', 'occupied', 'campus', 'administration', 'building', 'protest', 'possible', 'tuition', 'increases', 'prompting', 'officials', 'suspend', 'classes', '60', 'police', 'riot', 'gear', 'arrived', 'university', 'massachusetts', '5', 'p', 'm', 'two', 'hours', 'later', 'bus', 'drove', 'away', '29', 'students', 'camped', 'memorial', 'hall', 'students', 'charged', 'trespassing', '23', 'students', 'arrested', 'lying', 'bus', 'prevent', 'leaving', 'police', '300', 'students', 'stood', 'building', 'chanting', 'looking', 'students', 'hall', 'arrested', '35', 'students', 'occupied', 'memorial', 'hall', '1', 'p', 'm', 'monday', 'declined', 'offer', 'meet', 'administrators', 'provosts', 'office', 'tuesday', 'morning', 'presented', 'list', 'demands', 'halt', 'defense', 'department', 'research', '25', '000', 'student', 'campus', '40', 'students', 'left', 'building', 'tuesday', 'morning', 'university', 'administrators', 'told', 'arrested', '5', 'p', 'm', 'university', 'spokeswoman', 'jeanne', 'hopkins', 'takeover', 'second', 'western', 'massachusetts', 'campus', 'seven', 'protesters', 'arrested', 'april', '19', 'charges', 'disorderly', 'conduct', 'trespassing', 'demonstrating', 'military', 'funded', 'research', 'campus', 'particularly', 'research', 'anthrax', 'research', 'university', 'non', 'classified', 'researchers', 'make', 'work', 'public', 'university', 'rules', '11', '6', 'million', '22', 'percent', 'grant', 'money', 'received', 'university', 'came', 'defense', 'department', '1988', 'school', 'chancellor', 'joseph', 'd', 'duffey', 'issued', 'statement', 'telling', 'students', 'research', 'continue', 'campus', 'school', 'administrators', 'decide', 'differently', 'policy', 'negotiated', 'students', 'duffey', 'latest', 'occupation', 'began', 'students', 'rallying', 'monday', 'student', 'union', 'military', 'research', 'marched', 'administration', 'building', 'ducked', 'memorial', 'hall', 'en', 'route', 'followed', 'members', 'local', 'chapter', 'american', 'friends', 'service', 'committee', 'contended', 'research', 'dangerous', 'town', 'promotes', 'militarism', 'banned', 'university', 'argued', 'purpose', 'anthrax', 'research', 'peaceful', 'strain', 'bacteria', 'non', 'virulent', 'study', 'school', '23', 'years', 'incident', 'amherst', 'health', 'board', 'scheduled', 'hearing', 'wednesday', 'question', 'safety', 'anthrax', 'research', 'tuesday', 'time', '1969', 'classes', 'city', 'college', 'new', 'york', 'canceled', 'student', 'protests', 'school', 'spokesman', 'charles', 'deciccio', 'protesters', 'demanding', 'face', 'face', 'meeting', 'gov', 'mario', 'cuomo', 'feared', 'tuition', 'college', '1', '250', 'increased', 'college', 'staff', 'reduced', 'state', 'budget', 'cuts', 'governor', 'immediate', 'comment', 'tuition', 'set', 'deciccio']\n"
     ]
    }
   ],
   "source": [
    "print([id2token[word_id] for word_id in example_document[1] if word_id > 0])"
   ]
  },
  {
   "cell_type": "markdown",
   "metadata": {},
   "source": [
    "The reverse can also be done, say we want to look for news about the \"University of Massachusetts\", the tokens of that query can be converted to ids using the reverse dictionary:"
   ]
  },
  {
   "cell_type": "code",
   "execution_count": 140,
   "metadata": {},
   "outputs": [
    {
     "name": "stdout",
     "output_type": "stream",
     "text": [
      "Query by tokens: ['university', '', 'massachusetts']\n",
      "Query by ids with stopwords: [200, 0, 894]\n",
      "Query by ids without stopwords: [200, 894]\n"
     ]
    }
   ],
   "source": [
    "query_tokens = index.tokenize(\"University of Massachusetts\")\n",
    "print(\"Query by tokens:\", query_tokens)\n",
    "query_id_tokens = [token2id.get(query_token,0) for query_token in query_tokens]\n",
    "print(\"Query by ids with stopwords:\", query_id_tokens)\n",
    "query_id_tokens = [word_id for word_id in query_id_tokens if word_id > 0]\n",
    "print(\"Query by ids without stopwords:\", query_id_tokens)"
   ]
  },
  {
   "cell_type": "markdown",
   "metadata": {},
   "source": [
    "Naturally we can now match the document and query in the id space, let's see how often a word from the query occurs in our example document:"
   ]
  },
  {
   "cell_type": "code",
   "execution_count": 141,
   "metadata": {},
   "outputs": [
    {
     "name": "stdout",
     "output_type": "stream",
     "text": [
      "Document AP890425-0001 has 13 word matches with query: \"university  massachusetts\".\n",
      "Document AP890425-0001 and query \"university  massachusetts\" have a 2.5% overlap.\n"
     ]
    }
   ],
   "source": [
    "matching_words = sum([True for word_id in example_document[1] if word_id in query_id_tokens])\n",
    "print(\"Document %s has %d word matches with query: \\\"%s\\\".\" % (example_document[0], matching_words, ' '.join(query_tokens)))\n",
    "print(\"Document %s and query \\\"%s\\\" have a %.01f%% overlap.\" % (example_document[0], ' '.join(query_tokens),matching_words/float(len(example_document[1]))*100))"
   ]
  },
  {
   "cell_type": "markdown",
   "metadata": {},
   "source": [
    "While this is certainly not everything Pyndri can do, it should give you an idea of how to use it. Please take a look at the [examples](https://github.com/cvangysel/pyndri) as it will help you a lot with this assignment.\n",
    "\n",
    "**CAUTION**: Avoid printing out the whole index in this Notebook as it will generate a lot of output and is likely to corrupt the Notebook."
   ]
  },
  {
   "cell_type": "markdown",
   "metadata": {},
   "source": [
    "### Parsing the query file\n",
    "You can parse the query file (`ap_88_89/topics_title`) using the following snippet:"
   ]
  },
  {
   "cell_type": "code",
   "execution_count": 142,
   "metadata": {},
   "outputs": [
    {
     "name": "stdout",
     "output_type": "stream",
     "text": [
      "OrderedDict([('51', 'Airbus Subsidies'), ('52', 'South African Sanctions'), ('53', 'Leveraged Buyouts'), ('54', 'Satellite Launch Contracts'), ('55', 'Insider Trading'), ('56', 'Prime (Lending) Rate Moves, Predictions'), ('57', 'MCI'), ('58', 'Rail Strikes'), ('59', 'Weather Related Fatalities'), ('60', 'Merit-Pay vs. Seniority'), ('61', 'Israeli Role in Iran-Contra Affair'), ('62', \"Military Coups D'etat\"), ('63', 'Machine Translation'), ('64', 'Hostage-Taking'), ('65', 'Information Retrieval Systems'), ('66', 'Natural Language Processing'), ('67', 'Politically Motivated Civil Disturbances'), ('68', 'Health Hazards from Fine-Diameter Fibers'), ('69', 'Attempts to Revive the SALT II Treaty'), ('70', 'Surrogate Motherhood'), ('71', 'Border Incursions'), ('72', 'Demographic Shifts in the U.S.'), ('73', 'Demographic Shifts across National Boundaries'), ('74', 'Conflicting Policy'), ('75', 'Automation'), ('76', 'U.S. Constitution - Original Intent'), ('77', 'Poaching'), ('78', 'Greenpeace'), ('79', 'FRG Political Party Positions'), ('80', '1988 Presidential Candidates Platforms'), ('81', 'Financial crunch for televangelists in the wake of the PTL scandal'), ('82', 'Genetic Engineering'), ('83', 'Measures to Protect the Atmosphere'), ('84', 'Alternative/renewable Energy Plant & Equipment Installation'), ('85', 'Official Corruption'), ('86', 'Bank Failures'), ('87', 'Criminal Actions Against Officers of Failed Financial Institutions'), ('88', 'Crude Oil Price Trends'), ('89', '\"Downstream\" Investments by OPEC Member States'), ('90', 'Data on Proven Reserves of Oil & Natural Gas Producers'), ('91', 'U.S. Army Acquisition of Advanced Weapons Systems'), ('92', 'International Military Equipment Sales'), ('93', 'What Backing Does the National Rifle Association Have?'), ('94', 'Computer-aided Crime'), ('95', 'Computer-aided Crime Detection'), ('96', 'Computer-Aided Medical Diagnosis'), ('97', 'Fiber Optics Applications'), ('98', 'Fiber Optics Equipment Manufacturers'), ('99', 'Iran-Contra Affair'), ('100', 'Controlling the Transfer of High Technology'), ('101', 'Design of the \"Star Wars\" Anti-missile Defense System'), ('102', \"Laser Research Applicable to the U.S.'s Strategic Defense Initiative\"), ('103', 'Welfare Reform'), ('104', 'Catastrophic Health Insurance'), ('105', '\"Black Monday\"'), ('106', 'U.S. Control of Insider Trading'), ('107', 'Japanese Regulation of Insider Trading'), ('108', 'Japanese Protectionist Measures'), ('109', 'Find Innovative Companies'), ('110', 'Black Resistance Against the South African Government'), ('111', 'Nuclear Proliferation'), ('112', 'Funding Biotechnology'), ('113', 'New Space Satellite Applications'), ('114', 'Non-commercial Satellite Launches'), ('115', 'Impact of the 1986 Immigration Law'), ('116', 'Generic Drug Substitutions'), ('117', 'Capacity of the U.S. Cellular Telephone Network'), ('118', 'International Terrorists'), ('119', 'Actions Against International Terrorists'), ('120', 'Economic Impact of International Terrorism'), ('121', 'Death from Cancer'), ('122', 'RDT&E of New Cancer Fighting Drugs'), ('123', 'Research into & Control of Carcinogens'), ('124', 'Alternatives to Traditional Cancer Therapies'), ('125', 'Anti-smoking Actions by Government'), ('126', 'Medical Ethics and Modern Technology'), ('127', 'U.S.-U.S.S.R. Arms Control Agreements'), ('128', 'Privatization of State Assets'), ('129', 'Soviet Spying on the U.S.'), ('130', 'Jewish Emigration and U.S.-USSR Relations'), ('131', 'McDonnell Douglas Contracts for Military Aircraft'), ('132', '\"Stealth\" Aircraft'), ('133', 'Hubble Space Telescope'), ('134', 'The Human Genome Project'), ('135', 'Possible Contributions of Gene Mapping to Medicine'), ('136', 'Diversification by Pacific Telesis'), ('137', 'Expansion in the U.S. Theme Park Industry'), ('138', 'Iranian Support for Lebanese Hostage-takers'), ('139', \"Iran's Islamic Revolution - Domestic and Foreign Social Consequences\"), ('140', 'Political Impact of Islamic Fundamentalism'), ('141', \"Japan's Handling of its Trade Surplus with the U.S.\"), ('142', 'Impact of Government Regulated Grain Farming on International Relations'), ('143', 'Why Protect U.S. Farmers?'), ('144', 'Management Problems at the United Nations'), ('145', 'Influence of the \"Pro-Israel Lobby\"'), ('146', 'Negotiating an End to the Nicaraguan Civil War'), ('147', 'Productivity Trends in the U.S. Economy'), ('148', 'Conflict in the Horn of Africa'), ('149', 'Industrial Espionage'), ('150', 'U.S. Political Campaign Financing'), ('151', 'Coping with overcrowded prisons'), ('152', 'Accusations of Cheating by Contractors on U.S. Defense Projects'), ('153', 'Insurance Coverage which pays for Long Term Care'), ('154', 'Oil Spills'), ('155', 'Right Wing Christian Fundamentalism in U.S.'), ('156', 'Efforts to enact Gun Control Legislation'), ('157', 'Causes and treatments of multiple sclerosis (MS)'), ('158', 'Term limitations for members of the U.S. Congress'), ('159', 'Electric Car Development'), ('160', 'Vitamins - The Cure for or Cause of Human Ailments'), ('161', 'Acid Rain'), ('162', 'Automobile Recalls'), ('163', 'Vietnam Veterans and Agent Orange'), ('164', 'Generic Drugs - Illegal Activities by Manufacturers'), ('165', 'Tobacco company advertising and the young'), ('166', 'Standardized testing and cultural bias'), ('167', 'Regulation of the showing of violence and explicit sex in motion picture theaters, on television, and on video cassettes.'), ('168', 'Financing AMTRAK'), ('169', 'Cost of Garbage/Trash Removal'), ('170', 'The Consequences of Implantation of Silicone Gel Breast Devices'), ('171', \"Use of Mutual Funds in an Individual's Retirement Strategy\"), ('172', 'The Effectiveness of Medical Products and Related Programs Utilized in the Cessation of Smoking.'), ('173', 'Smoking Bans'), ('174', 'Hazardous Waste Cleanup'), ('175', 'NRA Prevention of Gun Control Legislation'), ('176', 'Real-life private investigators'), ('177', 'English as the Official Language in U.S.'), ('178', 'Dog Maulings'), ('179', 'U. S. Restaurants in Foreign Lands'), ('180', 'Ineffectiveness of U.S. Embargoes/Sanctions'), ('181', 'Abuse of the Elderly by Family Members, and Medical and Nonmedical Personnel, and Initiatives Being Taken to Minimize This Mistreatment'), ('182', 'Commercial Overfishing Creates Food Fish Deficit'), ('183', 'Asbestos Related Lawsuits'), ('184', 'Corporate Pension Plans/Funds'), ('185', 'Reform of the U.S. Welfare System'), ('186', 'Difference of Learning Levels Among Inner City and More Suburban School Students'), ('187', 'Signs of the Demise of Independent Publishing'), ('188', 'Beachfront Erosion'), ('189', 'Real Motives for Murder'), ('190', 'Instances of Fraud Involving the Use of a Computer'), ('191', 'Efforts to Improve U.S. Schooling'), ('192', 'Oil Spill Cleanup'), ('193', 'Toys R Dangerous'), ('194', 'The Amount of Money Earned by Writers'), ('195', 'Stock Market Perturbations Attributable to Computer Initiated Trading'), ('196', 'School Choice Voucher System and its effects upon the entire U.S. educational program'), ('197', 'Reform of the jurisprudence system to stop juries from granting unreasonable monetary awards'), ('198', 'Gene Therapy and Its Benefits to Humankind'), ('199', 'Legality of Medically Assisted Suicides'), ('200', 'Impact of foreign textile imports on U.S. textile industry')])\n"
     ]
    }
   ],
   "source": [
    "import collections\n",
    "import io\n",
    "import logging\n",
    "import sys\n",
    "\n",
    "def parse_topics(file_or_files,\n",
    "                 max_topics=sys.maxsize, delimiter=';'):\n",
    "    assert max_topics >= 0 or max_topics is None\n",
    "\n",
    "    topics = collections.OrderedDict()\n",
    "\n",
    "    if not isinstance(file_or_files, list) and \\\n",
    "            not isinstance(file_or_files, tuple):\n",
    "        if hasattr(file_or_files, '__iter__'):\n",
    "            file_or_files = list(file_or_files)\n",
    "        else:\n",
    "            file_or_files = [file_or_files]\n",
    "\n",
    "    for f in file_or_files:\n",
    "        assert isinstance(f, io.IOBase)\n",
    "\n",
    "        for line in f:\n",
    "            assert(isinstance(line, str))\n",
    "\n",
    "            line = line.strip()\n",
    "\n",
    "            if not line:\n",
    "                continue\n",
    "\n",
    "            topic_id, terms = line.split(delimiter, 1)\n",
    "\n",
    "            if topic_id in topics and (topics[topic_id] != terms):\n",
    "                    logging.error('Duplicate topic \"%s\" (%s vs. %s).',\n",
    "                                  topic_id,\n",
    "                                  topics[topic_id],\n",
    "                                  terms)\n",
    "\n",
    "            topics[topic_id] = terms\n",
    "\n",
    "            if max_topics > 0 and len(topics) >= max_topics:\n",
    "                break\n",
    "\n",
    "    return topics\n",
    "\n",
    "with open('./ap_88_89/topics_title', 'r') as f_topics:\n",
    "    print(parse_topics([f_topics]))"
   ]
  },
  {
   "cell_type": "markdown",
   "metadata": {},
   "source": [
    "### Task 1: Implement and compare lexical IR methods [35 points] ### \n",
    "\n",
    "In this task you will implement a number of lexical methods for IR using the **Pyndri** framework. Then you will evaluate these methods on the dataset we have provided using **TREC Eval**.\n",
    "\n",
    "Use the **Pyndri** framework to get statistics of the documents (term frequency, document frequency, collection frequency; **you are not allowed to use the query functionality of Pyndri**) and implement the following scoring methods in **Python**:\n",
    "\n",
    "- [TF-IDF](http://nlp.stanford.edu/IR-book/html/htmledition/tf-idf-weighting-1.html) and \n",
    "- [BM25](http://nlp.stanford.edu/IR-book/html/htmledition/okapi-bm25-a-non-binary-model-1.html) with k1=1.2 and b=0.75. **[5 points]**\n",
    "- Language models ([survey](https://drive.google.com/file/d/0B-zklbckv9CHc0c3b245UW90NE0/view))\n",
    "    - Jelinek-Mercer (explore different values of 𝛌 in the range [0.1, 0.5, 0.9]). **[5 points]**\n",
    "    - Dirichlet Prior (explore different values of 𝛍 [500, 1000, 1500]). **[5 points]**\n",
    "    - Absolute discounting (explore different values of 𝛅 in the range [0.1, 0.5, 0.9]). **[5 points]**\n",
    "    - [Positional Language Models](http://sifaka.cs.uiuc.edu/~ylv2/pub/sigir09-plm.pdf) define a language model for each position of a document, and score a document based on the scores of its PLMs. The PLM is estimated based on propagated counts of words within a document through a proximity-based density function, which both captures proximity heuristics and achieves an effect of “soft” passage retrieval. Implement the PLM, all five kernels, but only the Best position strategy to score documents. Use 𝛔 equal to 50, and Dirichlet smoothing with 𝛍 optimized on the validation set (decide how to optimize this value yourself and motivate your decision in the report). **[10 points]**\n",
    "    \n",
    "Implement the above methods and report evaluation measures (on the test set) using the hyper parameter values you optimized on the validation set (also report the values of the hyper parameters). Use TREC Eval to obtain the results and report on `NDCG@10`, Mean Average Precision (`MAP@1000`), `Precision@5` and `Recall@1000`.\n",
    "\n",
    "For the language models, create plots showing `NDCG@10` with varying values of the parameters. You can do this by chaining small scripts using shell scripting (preferred) or execute trec_eval using Python's `subprocess`.\n",
    "\n",
    "Compute significance of the results using a [two-tailed paired Student t-test](https://docs.scipy.org/doc/scipy/reference/generated/scipy.stats.ttest_rel.html) **[5 points]**. Be wary of false rejection of the null hypothesis caused by the [multiple comparisons problem](https://en.wikipedia.org/wiki/Multiple_comparisons_problem). There are multiple ways to mitigate this problem and it is up to you to choose one.\n",
    "\n",
    "Analyse the results by identifying specific queries where different methods succeed or fail and discuss possible reasons that cause these differences. This is *very important* in order to understand who the different retrieval functions behave.\n",
    "\n",
    "**NOTE**: Don’t forget to use log computations in your calculations to avoid underflows. "
   ]
  },
  {
   "cell_type": "markdown",
   "metadata": {},
   "source": [
    "**IMPORTANT**: You should structure your code around the helper functions we provide below."
   ]
  },
  {
   "cell_type": "code",
   "execution_count": 143,
   "metadata": {},
   "outputs": [
    {
     "name": "stdout",
     "output_type": "stream",
     "text": [
      "Gathering statistics about 456 terms.\n",
      "Inverted index creation took 108.67771911621094 seconds.\n"
     ]
    }
   ],
   "source": [
    "import time\n",
    "\n",
    "with open('./ap_88_89/topics_title', 'r') as f_topics:\n",
    "    queries = parse_topics([f_topics])\n",
    "\n",
    "index = pyndri.Index('index/')\n",
    "start_time = time.time()\n",
    "num_documents = index.maximum_document() - index.document_base()\n",
    "\n",
    "dictionary = pyndri.extract_dictionary(index)\n",
    "\n",
    "tokenized_queries = {\n",
    "    query_id: [dictionary.translate_token(token)\n",
    "               for token in index.tokenize(query_string)\n",
    "               if dictionary.has_token(token)]\n",
    "    for query_id, query_string in queries.items()}\n",
    "\n",
    "#TODO: Explain why we need it\n",
    "query_term_counts = {\n",
    "    query_id: collections.Counter(query_terms) \n",
    "    for query_id, query_terms in tokenized_queries.items()}\n",
    "\n",
    "query_term_ids = set(\n",
    "    query_term_id\n",
    "    for query_term_ids in tokenized_queries.values()\n",
    "    for query_term_id in query_term_ids)\n",
    "\n",
    "print('Gathering statistics about', len(query_term_ids), 'terms.')\n",
    "\n",
    "# inverted index creation.\n",
    "\n",
    "document_lengths = {}\n",
    "unique_terms_per_document = {}\n",
    "\n",
    "inverted_index = collections.defaultdict(dict)\n",
    "inverted_index_positions = collections.defaultdict(dict)\n",
    "collection_frequencies = collections.defaultdict(int)\n",
    "\n",
    "total_terms = 0\n",
    "\n",
    "document_ids = []\n",
    "for int_doc_id in range(index.document_base(), index.maximum_document()):\n",
    "    # CHECK IF WE CAN DO THAT\n",
    "    if len(index.document(int_doc_id)[1]) > 0:\n",
    "        document_ids.append(int_doc_id)\n",
    "        ext_doc_id, doc_token_ids = index.document(int_doc_id)\n",
    "        doc_token_ids = [doc_token_id for doc_token_id in doc_token_ids if doc_token_id > 0]\n",
    "        \n",
    "        document_bow = collections.Counter(doc_token_ids)\n",
    "\n",
    "        token_positions = collections.defaultdict(list)\n",
    "\n",
    "        # Check with the TAs if we can change that\n",
    "        [token_positions[token_id].append(i) for i, token_id in enumerate(doc_token_ids)]\n",
    "\n",
    "        document_length = sum(document_bow.values())\n",
    "\n",
    "        document_lengths[int_doc_id] = document_length\n",
    "        total_terms += document_length\n",
    "\n",
    "        unique_terms_per_document[int_doc_id] = len(document_bow)\n",
    "\n",
    "        for query_term_id in query_term_ids:\n",
    "            assert query_term_id is not None\n",
    "\n",
    "            document_term_frequency = document_bow.get(query_term_id, 0)\n",
    "\n",
    "            if document_term_frequency == 0:\n",
    "                continue\n",
    "\n",
    "            collection_frequencies[query_term_id] += document_term_frequency\n",
    "            inverted_index[query_term_id][int_doc_id] = document_term_frequency\n",
    "            inverted_index_positions[query_term_id][int_doc_id] = token_positions[query_term_id]\n",
    "\n",
    "inverted_index = dict(inverted_index)\n",
    "inverted_index_positions = dict(inverted_index_positions)\n",
    "\n",
    "avg_doc_length = total_terms / num_documents\n",
    "\n",
    "print('Inverted index creation took', time.time() - start_time, 'seconds.')"
   ]
  },
  {
   "cell_type": "code",
   "execution_count": 144,
   "metadata": {
    "collapsed": true
   },
   "outputs": [],
   "source": [
    "import sys\n",
    "def run_retrieval(model_name, score_fn, top_1000=None):\n",
    "    \"\"\"\n",
    "    Runs a retrieval method for all the queries and writes the TREC-friendly results in a file.\n",
    "    \n",
    "    :param model_name: the name of the model (a string)\n",
    "    :param score_fn: the scoring function (a function - see below for an example) \n",
    "    \"\"\"\n",
    "    run_out_path = '{}.run'.format(model_name)\n",
    "\n",
    "    if os.path.exists(run_out_path):\n",
    "        return\n",
    "\n",
    "    retrieval_start_time = time.time()\n",
    "\n",
    "    print('Retrieving using', model_name)\n",
    "    \n",
    "    data = collections.defaultdict(list)\n",
    "    # The dictionary data should have the form: query_id --> (document_score, external_doc_id)\n",
    "    count = 0\n",
    "    for query_id in tokenized_queries:\n",
    "            \n",
    "        if count % 15 == 0:\n",
    "            print('Finished {}%...'.format(count / 15 * 10))\n",
    "        count += 1    \n",
    "        doc_result = []\n",
    "        global document_ids\n",
    "        if top_1000 is not None:\n",
    "            print('using top 1000')\n",
    "            document_ids = top_1000\n",
    "        for int_doc_id in document_ids:\n",
    "            ext_doc_id, _ = index.document(int_doc_id)\n",
    "            doc_score = score_fn(int_doc_id, query_id)\n",
    "#             if doc_score != 0:\n",
    "            data[query_id].append((doc_score, ext_doc_id))\n",
    "        \n",
    "    with open(run_out_path, 'w') as f_out:\n",
    "        write_run(\n",
    "            model_name=model_name,\n",
    "            data=data,\n",
    "            out_f=f_out,\n",
    "            max_objects_per_query=1000)"
   ]
  },
  {
   "cell_type": "code",
   "execution_count": null,
   "metadata": {},
   "outputs": [],
   "source": [
    "import numpy as np\n",
    "def tfidf(int_document_id, query_id):\n",
    "    \"\"\"\n",
    "    Scoring function for a document and a query term\n",
    "    \n",
    "    :param int_document_id: the document id\n",
    "    :param query_token_id: the query id\n",
    "    \"\"\"\n",
    "    \n",
    "    score = 0\n",
    "    \n",
    "    for query_term_id in tokenized_queries[query_id]:\n",
    "        if int_document_id in inverted_index[query_term_id]:\n",
    "            tf = inverted_index[query_term_id][int_document_id]\n",
    "            df = len(inverted_index[query_term_id])\n",
    "            idf = num_documents/df\n",
    "            score += np.log(1 + tf) * np.log(idf)\n",
    "            \n",
    "    return score\n",
    "\n",
    "run_retrieval('tfidf', tfidf)"
   ]
  },
  {
   "cell_type": "code",
   "execution_count": 145,
   "metadata": {
    "collapsed": true
   },
   "outputs": [],
   "source": [
    "from collections import defaultdict\n",
    "\n",
    "ext2int = {index.ext_document_id(i): i for i in range(index.document_base(), index.maximum_document())}\n",
    "\n",
    "def get_first_1000(measure):\n",
    "    f = open('{}.run'.format(measure), 'r')\n",
    "    top = defaultdict(list)\n",
    "    top_values = defaultdict(list)\n",
    "    \n",
    "    for line in f.readlines():\n",
    "        splitted = line.split(' ')\n",
    "        query_id, ext_id, rank, tfidf = int(splitted[0]), splitted[2], int(splitted[3]), float(splitted[4])\n",
    "        top[query_id].append(ext2int[ext_id])\n",
    "        top_values[query_id].append(tfidf)\n",
    "        \n",
    "    f.close()\n",
    "    return top, top_values\n",
    "\n",
    "top_1000, _ = get_first_1000('tfidf')"
   ]
  },
  {
   "cell_type": "code",
   "execution_count": null,
   "metadata": {
    "scrolled": true
   },
   "outputs": [],
   "source": [
    "def bm25(int_document_id, query_id):\n",
    "    k1=1.2\n",
    "    b=0.75\n",
    "    score = 0\n",
    "    \n",
    "    for query_term_id in set(tokenized_queries[query_id]):\n",
    "        if int_document_id in inverted_index[query_term_id]:\n",
    "            tf_td = inverted_index[query_term_id][int_document_id]\n",
    "          \n",
    "            Ld = document_lengths[int_document_id]\n",
    "            Lavg = avg_doc_length\n",
    "\n",
    "            tf_td = inverted_index[query_term_id][int_document_id]\n",
    "\n",
    "            df = len(inverted_index[query_term_id])\n",
    "            idf = num_documents/df\n",
    "            tf_tq = query_term_counts[query_id][query_term_id]\n",
    "\n",
    "            first_term = np.log(idf)\n",
    "            second_term = ((k1+1)*tf_td)/(k1*((1-b)+b*(Ld/avg_doc_length))+tf_td)\n",
    "\n",
    "            score += first_term * second_term # * third_term\n",
    "\n",
    "    return score\n",
    "\n",
    "run_retrieval('bm25', bm25)"
   ]
  },
  {
   "cell_type": "code",
   "execution_count": null,
   "metadata": {
    "scrolled": true
   },
   "outputs": [],
   "source": [
    "import functools\n",
    "def jelinek_mercer(int_document_id, query_id, lambd):\n",
    "    \n",
    "    score = 0\n",
    "    for query_term_id in tokenized_queries[query_id]:\n",
    "\n",
    "        tf = inverted_index[query_term_id].get(int_document_id, 0)\n",
    "        doc_len = document_lengths[int_document_id] \n",
    "\n",
    "        first_term = lambd*tf/doc_len\n",
    "        second_term = (1 - lambd) * collection_frequencies[query_term_id]/total_terms\n",
    "        score += np.log(first_term + second_term) * query_term_counts[query_id][query_term_id]\n",
    "    \n",
    "    return score\n",
    "\n",
    "for lambd_val in [0.1, 0.5, 0.9]:\n",
    "    jel_merc_func = functools.partial(jelinek_mercer, lambd = lambd_val)\n",
    "    run_retrieval('jelinek_mercer_{}'.format(lambd_val), jel_merc_func)"
   ]
  },
  {
   "cell_type": "code",
   "execution_count": null,
   "metadata": {
    "scrolled": true
   },
   "outputs": [],
   "source": [
    "def dirichlet_prior(int_document_id, query_id, mu):\n",
    "    score = 0\n",
    "    for query_term_id in tokenized_queries[query_id]:\n",
    "        tf = inverted_index[query_term_id].get(int_document_id, 0)\n",
    "                    \n",
    "        prob = collection_frequencies[query_term_id]/total_terms\n",
    "        doc_len = document_lengths[int_document_id] \n",
    "\n",
    "        score += (np.log(tf+mu*prob)-np.log(doc_len + mu))*query_term_counts[query_id][query_term_id]\n",
    "    \n",
    "    return score\n",
    "\n",
    "for mu_val in [500, 1000, 1500]:\n",
    "    dir_prior_func = functools.partial(dirichlet_prior, mu=mu_val)\n",
    "    run_retrieval('dirichlet_prior_{}'.format(mu_val), dir_prior_func)"
   ]
  },
  {
   "cell_type": "code",
   "execution_count": null,
   "metadata": {
    "scrolled": true
   },
   "outputs": [],
   "source": [
    "def abs_discount(int_document_id, query_id, delta):\n",
    "    score = 0\n",
    "    for query_term_id in tokenized_queries[query_id]:\n",
    "\n",
    "        tf = inverted_index[query_term_id].get(int_document_id, 0)\n",
    "\n",
    "        prob = collection_frequencies[query_term_id]/total_terms\n",
    "        doc_len = document_lengths[int_document_id] \n",
    "        doc_unique_len = unique_terms_per_document[int_document_id]\n",
    "\n",
    "        first_term = max(tf - delta, 0)\n",
    "        second_term = delta*doc_unique_len*prob/doc_len\n",
    "\n",
    "        score += np.log(first_term + second_term)*query_term_counts[query_id][query_term_id]\n",
    "    \n",
    "    return score\n",
    "\n",
    "for delta_val in [0.1, 0.5, 0.9]:\n",
    "    abs_discount_func = functools.partial(abs_discount, delta=delta_val)\n",
    "    run_retrieval('abs_discounting_{}'.format(delta_val), abs_discount_func)"
   ]
  },
  {
   "cell_type": "code",
   "execution_count": null,
   "metadata": {
    "collapsed": true
   },
   "outputs": [],
   "source": [
    "import sys\n",
    "def run_retrieval_plm(model_name, score_fn, top_1000):\n",
    "    \"\"\"\n",
    "    Runs a retrieval method for all the queries and writes the TREC-friendly results in a file.\n",
    "    \n",
    "    :param model_name: the name of the model (a string)\n",
    "    :param score_fn: the scoring function (a function - see below for an example) \n",
    "    \"\"\"\n",
    "    run_out_path = 'results/{}.run'.format(model_name)\n",
    "\n",
    "    if os.path.exists(run_out_path):\n",
    "        return\n",
    "\n",
    "    retrieval_start_time = time.time()\n",
    "\n",
    "    print('Retrieving using', model_name)\n",
    "    \n",
    "    data = collections.defaultdict(list)\n",
    "    # The dictionary data should have the form: query_id --> (document_score, external_doc_id)\n",
    "    count = 0\n",
    "    for query_id in tokenized_queries:\n",
    "            \n",
    "        if count % 15 == 0:\n",
    "            print('Finished {}%...'.format(count / 15 * 10))\n",
    "        count += 1    \n",
    "        doc_result = []\n",
    "        for int_doc_id in top_1000[int(query_id)]:\n",
    "            ext_doc_id, _ = index.document(int_doc_id)\n",
    "            doc_score = score_fn(int_doc_id, query_id)\n",
    "            data[query_id].append((doc_score, ext_doc_id))\n",
    "        \n",
    "    with open(run_out_path, 'w') as f_out:\n",
    "        write_run(\n",
    "            model_name=model_name,\n",
    "            data=data,\n",
    "            out_f=f_out,\n",
    "            max_objects_per_query=1000)\n",
    "    "
   ]
  },
  {
   "cell_type": "code",
   "execution_count": 19,
   "metadata": {
    "collapsed": true
   },
   "outputs": [],
   "source": [
    "from scipy.stats import norm\n",
    "\n",
    "def gauss_kernel(i, sigma=50):\n",
    "    kernel_val = np.exp(-np.power(i, 2)/(2*np.power(sigma,2)))\n",
    "    return kernel_val\n",
    "\n",
    "def compute_kernel_table(kernel, integral, limit=2500):\n",
    "    kernel_table = np.zeros(limit)\n",
    "    integral_table = np.zeros(limit)\n",
    "    for i in range(limit):\n",
    "        kernel_table[i] = kernel(i)\n",
    "        integral_table[i] = integral(i)\n",
    "    return kernel_table, integral_table\n",
    "\n",
    "def gauss_partial_integral(i, sigma=50):\n",
    "    return np.sqrt(2*np.pi*np.power(sigma,2)) * (norm.cdf(i/sigma) - norm.cdf(0))\n",
    "\n",
    "def triangle_kernel(i, sigma=50):\n",
    "    kernel_val = 1-np.abs(i)/sigma if np.abs(i)<=sigma else 0\n",
    "    return kernel_val\n",
    "\n",
    "def triangle_partial_integral(i, sigma=50):\n",
    "    return  i - np.power(i, 2)/(2*sigma) if i < sigma else sigma/2\n",
    "\n",
    "def cosine_kernel(i, sigma=50):\n",
    "    kernel_val = 1/2 * (1+np.cos(np.abs(i)*np.pi/sigma))\\\n",
    "        if np.abs(i)<=sigma\\\n",
    "        else 0\n",
    "    return kernel_val\n",
    "\n",
    "def cosine_partial_integral(i, sigma=50):\n",
    "    return sigma/2 + sigma*np.sin(np.pi*i/sigma)/(2*np.pi) if i < sigma else sigma/2\n",
    "\n",
    "def circle_kernel(i, sigma=50):\n",
    "    kernel_val = np.sqrt(1-np.power(np.abs(i)/sigma,2))\\\n",
    "        if np.abs(i)<=sigma\\\n",
    "        else 0\n",
    "    return kernel_val\n",
    "\n",
    "def circle_partial_integral(i, sigma=50):\n",
    "    return sigma/2 * (np.arcsin(i/sigma) + 1/2 * np.sin(2*np.arcsin(i/sigma)))\\\n",
    "                        if i < sigma else sigma*np.pi/4\n",
    "\n",
    "def passage_kernel(i, sigma=50):\n",
    "    kernel_val = 1 if np.abs(i)<=sigma else 0\n",
    "    return kernel_val\n",
    "\n",
    "def passage_partial_integral(i, sigma=50):\n",
    "    return i if i < sigma else sigma\n",
    "\n",
    "gauss_kernel_table, gauss_integral_table = compute_kernel_table(gauss_kernel, gauss_partial_integral)\n",
    "triangle_kernel_table, triangle_integral_table = compute_kernel_table(triangle_kernel, triangle_partial_integral)\n",
    "cosine_kernel_table, cosine_integral_table = compute_kernel_table(cosine_kernel, cosine_partial_integral)\n",
    "circle_kernel_table, circle_integral_table = compute_kernel_table(circle_kernel, circle_partial_integral)\n",
    "passage_kernel_table, passage_integral_table = compute_kernel_table(passage_kernel, passage_partial_integral)"
   ]
  },
  {
   "cell_type": "code",
   "execution_count": null,
   "metadata": {},
   "outputs": [],
   "source": [
    "import functools\n",
    "import numpy as np\n",
    "import time\n",
    "\n",
    "def positional_language_model(int_document_id, query_id, kernel=gauss_kernel_table, kernel_integral=gauss_integral_table, mu=0.1):\n",
    "    all_scores = np.zeros(document_lengths[int_document_id])\n",
    "    for query_term_id in set(tokenized_queries[query_id]):    \n",
    "        for i in range(document_lengths[int_document_id]):\n",
    "            term_score = 0\n",
    "            score = 0\n",
    "            if int_document_id in inverted_index_positions[query_term_id]:\n",
    "                for query_term_pos in inverted_index_positions[query_term_id][int_document_id]:\n",
    "                    term_score += kernel[np.abs(i-query_term_pos)]\n",
    "               \n",
    "                term_score = min(term_score, 1.0)\n",
    "            else:\n",
    "                term_score = 0\n",
    "                \n",
    "            prob_query = query_term_counts[query_id][query_term_id]/len(tokenized_queries[query_id])\n",
    "            prob = collection_frequencies[query_term_id]/total_terms\n",
    "            doc_len = document_lengths[int_document_id] \n",
    "            norm_value = kernel_integral[i] + kernel_integral[document_lengths[int_document_id]-1-i]\n",
    "\n",
    "            prob_word = (term_score+mu*prob)/(norm_value + mu)\n",
    "            score = prob_query * np.log(prob_query/prob_word)\n",
    "            all_scores[i] += score\n",
    "            \n",
    "    all_scores *= -1    \n",
    "    score = np.max(all_scores)\n",
    "    return score\n",
    "\n",
    "names = ['gauss', 'triangle', 'circle', 'cosine', 'passage']\n",
    "for mu_val in [500, 1000, 1500]:\n",
    "\n",
    "    for i, (kernel_func_table, kernel_integral_table) in enumerate([(gauss_kernel_table, gauss_integral_table), \n",
    "                                         (triangle_kernel_table, triangle_integral_table),\n",
    "                                         (circle_kernel_table, circle_integral_table),\n",
    "                                         (cosine_kernel_table, cosine_integral_table),\n",
    "                                         (passage_kernel_table, passage_integral_table)]):\n",
    "        start = time.time()\n",
    "        plm_func = functools.partial(positional_language_model, kernel=kernel_func_table, kernel_integral=kernel_integral_table, mu=mu_val)\n",
    "        run_retrieval_plm('plm-' + names[i] + '_' + str(mu_val), plm_func, top_1000=top_1000)\n",
    "        print(time.time() - start)"
   ]
  },
  {
   "cell_type": "code",
   "execution_count": null,
   "metadata": {
    "collapsed": true
   },
   "outputs": [],
   "source": [
    "from collections import defaultdict\n",
    "import os\n",
    "import scipy.stats\n",
    "import matplotlib.pyplot as plt\n",
    "\n",
    "def validation_best(score_name, param_list, measures, valid=True):\n",
    "    result_dicts = []\n",
    "    for p in param_list:\n",
    "        \n",
    "        result_dicts.append(trec_eval(score_name + ('_' + str(p) if p != None else ''), measures, validation=valid))\n",
    "    vals = []\n",
    "    for res in result_dicts:\n",
    "        vals.append(res['ndcg_cut_10']['all'])\n",
    "    best = np.argmax(vals)\n",
    "    return best, vals[best], param_list[best], result_dicts[best], result_dicts\n",
    "    \n",
    "def trec_eval(score_name, measures, validation=True):\n",
    "    validation_str = 'validation' if validation else 'test'\n",
    "    results = defaultdict(dict)\n",
    "    print(score_name)\n",
    "    print(os.path.curdir)\n",
    "    if os.path.isfile('results/{}'.format(score_name)):\n",
    "        print('weeeeeeee234342')\n",
    "    else:\n",
    "        print('results/{}.run'.format(score_name))\n",
    "        return 5\n",
    "    a = os.system(str.format('./trec_eval/trec_eval -m all_trec -q ap_88_89/qrel_{} results/{}.run > results/trec_results_{}', validation_str, score_name, score_name))\n",
    "    f = open('results/trec_results_' + score_name, 'r')\n",
    "    for line in f.readlines():\n",
    "        print(line)\n",
    "        name, id, val = line.strip().split()\n",
    "        if name in measures:\n",
    "            val = float(val)\n",
    "            results[name][id] = val\n",
    "\n",
    "    f.close()\n",
    "    return results"
   ]
  },
  {
   "cell_type": "code",
   "execution_count": 112,
   "metadata": {},
   "outputs": [],
   "source": [
    "kernel_names = ['gauss', 'triangle', 'circle', 'cosine', 'passage']\n",
    "measures = ['ndcg_cut_10', 'map_cut_1000', 'recall_1000', 'P_5']\n",
    "scores = ['jelinek_mercer','abs_discounting', 'dirichlet_prior', 'tfidf', 'bm25']\n",
    "plm_names = ['plm-' + kernel_name for kernel_name in kernel_names]\n",
    "\n",
    "scores = scores + plm_names\n",
    "params = {'jelinek_mercer': [0.1, 0.5, 0.9],\n",
    "         'abs_discounting': [0.1, 0.5, 0.9],\n",
    "         'dirichlet_prior': [500, 1000, 1500],\n",
    "          'tfidf': [None], 'bm25': [None]}\n",
    "for i, name in enumerate(plm_names):\n",
    "    params[name] = [500, 1000, 1500]\n",
    "    \n",
    "ind = np.arange(len(measures))\n",
    "width = 0.08\n",
    "colors = ['r', 'g', 'b', 'y', 'k', 'grey', 'purple', 'orange', 'pink']\n",
    "colors = colors + colors + colors + colors\n",
    "fig, ax = plt.subplots()\n",
    "rs = []\n",
    "\n",
    "bests = dict()\n",
    "for i, score in enumerate(scores):\n",
    "    print(score, params[score])\n",
    "    best, best_val, best_param, best_result, results = validation_best(score, params[score], measures)\n",
    "    bests[score] = best_param\n",
    "    means = [best_result[measure]['all'] for measure in measures]\n",
    "    rs.append(ax.bar(ind + width*i, means, width, color=colors[i]))\n",
    "\n",
    "ax.legend(rs, scores)\n",
    "ax.set_ylabel('Scores')\n",
    "ax.set_title('Scores measure')\n",
    "ax.set_xticks(ind + width*10 / 2)\n",
    "ax.set_xticklabels(measures)\n",
    "plt.show()\n",
    "\n",
    "\n",
    "ind = np.arange(3)\n",
    "width = 0.08\n",
    "fig, ax = plt.subplots()\n",
    "rs = []\n",
    "result_dicts = defaultdict(dict)\n",
    "for i, score in enumerate(scores):\n",
    "\n",
    "    for p in params[score]:\n",
    "        result_dicts[score][p] = trec_eval(score + ('_' + str(p) if p != None else ''), measures, validation=False)\n",
    "\n",
    "    means = [result_dicts[score][p]['ndcg_cut_10']['all'] for p in result_dicts[score]]\n",
    "    print(score)\n",
    "    markers_on = [i for i, _ in enumerate(params[score])]\n",
    "    x = np.arange(len(params[score]))\n",
    "    plt.plot(x,means, marker='o')\n",
    "    plt.xticks(x, params[score])\n",
    "    plt.show()"
   ]
  },
  {
   "cell_type": "code",
   "execution_count": 31,
   "metadata": {},
   "outputs": [
    {
     "name": "stdout",
     "output_type": "stream",
     "text": [
      "                                             abs_discounting  \\\n",
      "abs_discounting                                   (nan, nan)   \n",
      "bm25               (-0.5257236903056055, 0.6000503635431209)   \n",
      "dirichlet_prior     (-0.820053427200254, 0.4138115557777783)   \n",
      "jelinek_mercer   (3.5410519528295255, 0.0005682863686325523)   \n",
      "plm-circle        (4.872483344675144, 3.404494295037945e-06)   \n",
      "plm-cosine        (4.872483344675144, 3.404494295037945e-06)   \n",
      "plm-gauss         (4.872483344675144, 3.404494295037945e-06)   \n",
      "plm-passage       (4.872483344675144, 3.404494295037945e-06)   \n",
      "plm-triangle      (4.872483344675144, 3.404494295037945e-06)   \n",
      "tfidf             (-0.8849352885444004, 0.37796127448567174)   \n",
      "\n",
      "                                                        bm25  \\\n",
      "abs_discounting     (0.5257236903056055, 0.6000503635431209)   \n",
      "bm25                                              (nan, nan)   \n",
      "dirichlet_prior   (-0.11174077747120753, 0.9112156386153231)   \n",
      "jelinek_mercer   (5.652313301359162, 1.0880450573615098e-07)   \n",
      "plm-circle       (4.596034012844575, 1.0726591435959312e-05)   \n",
      "plm-cosine       (4.596034012844575, 1.0726591435959312e-05)   \n",
      "plm-gauss        (4.596034012844575, 1.0726591435959312e-05)   \n",
      "plm-passage      (4.596034012844575, 1.0726591435959312e-05)   \n",
      "plm-triangle     (4.596034012844575, 1.0726591435959312e-05)   \n",
      "tfidf              (-0.4670605426810397, 0.6413035046282116)   \n",
      "\n",
      "                                            dirichlet_prior  \\\n",
      "abs_discounting     (0.820053427200254, 0.4138115557777783)   \n",
      "bm25              (0.11174077747120753, 0.9112156386153231)   \n",
      "dirichlet_prior                                  (nan, nan)   \n",
      "jelinek_mercer   (4.667450218120534, 8.006097521772832e-06)   \n",
      "plm-circle       (4.862597513132251, 3.549604262177034e-06)   \n",
      "plm-cosine       (4.862597513132251, 3.549604262177034e-06)   \n",
      "plm-gauss        (4.862597513132251, 3.549604262177034e-06)   \n",
      "plm-passage      (4.862597513132251, 3.549604262177034e-06)   \n",
      "plm-triangle     (4.862597513132251, 3.549604262177034e-06)   \n",
      "tfidf            (-0.38581290711748234, 0.7003183630731882)   \n",
      "\n",
      "                                               jelinek_mercer  \\\n",
      "abs_discounting  (-3.5410519528295255, 0.0005682863686325523)   \n",
      "bm25             (-5.652313301359162, 1.0880450573615098e-07)   \n",
      "dirichlet_prior   (-4.667450218120534, 8.006097521772832e-06)   \n",
      "jelinek_mercer                                     (nan, nan)   \n",
      "plm-circle           (0.733054989755736, 0.46495448123428385)   \n",
      "plm-cosine           (0.733054989755736, 0.46495448123428385)   \n",
      "plm-gauss            (0.733054989755736, 0.46495448123428385)   \n",
      "plm-passage          (0.733054989755736, 0.46495448123428385)   \n",
      "plm-triangle         (0.733054989755736, 0.46495448123428385)   \n",
      "tfidf             (-4.068450958982941, 8.507042895139403e-05)   \n",
      "\n",
      "                                                   plm-circle  \\\n",
      "abs_discounting   (-4.872483344675144, 3.404494295037945e-06)   \n",
      "bm25             (-4.596034012844575, 1.0726591435959312e-05)   \n",
      "dirichlet_prior   (-4.862597513132251, 3.549604262177034e-06)   \n",
      "jelinek_mercer      (-0.733054989755736, 0.46495448123428385)   \n",
      "plm-circle                                         (nan, nan)   \n",
      "plm-cosine                                         (nan, nan)   \n",
      "plm-gauss                                          (nan, nan)   \n",
      "plm-passage                                        (nan, nan)   \n",
      "plm-triangle                                       (nan, nan)   \n",
      "tfidf              (-4.0212924397899, 0.00010154441658413892)   \n",
      "\n",
      "                                                   plm-cosine  \\\n",
      "abs_discounting   (-4.872483344675144, 3.404494295037945e-06)   \n",
      "bm25             (-4.596034012844575, 1.0726591435959312e-05)   \n",
      "dirichlet_prior   (-4.862597513132251, 3.549604262177034e-06)   \n",
      "jelinek_mercer      (-0.733054989755736, 0.46495448123428385)   \n",
      "plm-circle                                         (nan, nan)   \n",
      "plm-cosine                                         (nan, nan)   \n",
      "plm-gauss                                          (nan, nan)   \n",
      "plm-passage                                        (nan, nan)   \n",
      "plm-triangle                                       (nan, nan)   \n",
      "tfidf              (-4.0212924397899, 0.00010154441658413892)   \n",
      "\n",
      "                                                    plm-gauss  \\\n",
      "abs_discounting   (-4.872483344675144, 3.404494295037945e-06)   \n",
      "bm25             (-4.596034012844575, 1.0726591435959312e-05)   \n",
      "dirichlet_prior   (-4.862597513132251, 3.549604262177034e-06)   \n",
      "jelinek_mercer      (-0.733054989755736, 0.46495448123428385)   \n",
      "plm-circle                                         (nan, nan)   \n",
      "plm-cosine                                         (nan, nan)   \n",
      "plm-gauss                                          (nan, nan)   \n",
      "plm-passage                                        (nan, nan)   \n",
      "plm-triangle                                       (nan, nan)   \n",
      "tfidf              (-4.0212924397899, 0.00010154441658413892)   \n",
      "\n",
      "                                                  plm-passage  \\\n",
      "abs_discounting   (-4.872483344675144, 3.404494295037945e-06)   \n",
      "bm25             (-4.596034012844575, 1.0726591435959312e-05)   \n",
      "dirichlet_prior   (-4.862597513132251, 3.549604262177034e-06)   \n",
      "jelinek_mercer      (-0.733054989755736, 0.46495448123428385)   \n",
      "plm-circle                                         (nan, nan)   \n",
      "plm-cosine                                         (nan, nan)   \n",
      "plm-gauss                                          (nan, nan)   \n",
      "plm-passage                                        (nan, nan)   \n",
      "plm-triangle                                       (nan, nan)   \n",
      "tfidf              (-4.0212924397899, 0.00010154441658413892)   \n",
      "\n",
      "                                                 plm-triangle  \\\n",
      "abs_discounting   (-4.872483344675144, 3.404494295037945e-06)   \n",
      "bm25             (-4.596034012844575, 1.0726591435959312e-05)   \n",
      "dirichlet_prior   (-4.862597513132251, 3.549604262177034e-06)   \n",
      "jelinek_mercer      (-0.733054989755736, 0.46495448123428385)   \n",
      "plm-circle                                         (nan, nan)   \n",
      "plm-cosine                                         (nan, nan)   \n",
      "plm-gauss                                          (nan, nan)   \n",
      "plm-passage                                        (nan, nan)   \n",
      "plm-triangle                                       (nan, nan)   \n",
      "tfidf              (-4.0212924397899, 0.00010154441658413892)   \n",
      "\n",
      "                                                      tfidf  \n",
      "abs_discounting   (0.8849352885444004, 0.37796127448567174)  \n",
      "bm25               (0.4670605426810397, 0.6413035046282116)  \n",
      "dirichlet_prior   (0.38581290711748234, 0.7003183630731882)  \n",
      "jelinek_mercer   (4.068450958982941, 8.507042895139403e-05)  \n",
      "plm-circle        (4.0212924397899, 0.00010154441658413892)  \n",
      "plm-cosine        (4.0212924397899, 0.00010154441658413892)  \n",
      "plm-gauss         (4.0212924397899, 0.00010154441658413892)  \n",
      "plm-passage       (4.0212924397899, 0.00010154441658413892)  \n",
      "plm-triangle      (4.0212924397899, 0.00010154441658413892)  \n",
      "tfidf                                            (nan, nan)  \n"
     ]
    }
   ],
   "source": [
    "import pandas\n",
    "pairwise = defaultdict(dict)\n",
    "for score in scores:\n",
    "    for score2 in scores:\n",
    "        pairwise[score][score2] = (100, None)\n",
    "        for measure in measures:\n",
    "            _, p = scipy.stats.ttest_rel(list(result_dicts[score][bests[score]][measure].values()), \n",
    "                                         list(result_dicts[score2][bests[score2]][measure].values()))[1]\n",
    "        if p < pairwise[score][score2]:\n",
    "            pairwise[score][score2] = (p, measure)\n",
    "        # here we should compare to our p value to decide the significance\n",
    "#         print('result of ', score, ' with score ', param, 'respect to ', score2, 'is ', a, p)\n",
    "df = pandas.DataFrame.from_dict(pairwise)    \n",
    "df = df.applymap(lambda x: x < 0.05)\n",
    "df"
   ]
  },
  {
   "cell_type": "code",
   "execution_count": 23,
   "metadata": {},
   "outputs": [
    {
     "name": "stdout",
     "output_type": "stream",
     "text": [
      "['health', 'hazards', 'fine', 'diameter', 'fibers'] jelinek_mercer abs_discounting\n",
      "['black', 'resistance', 'south', 'african', 'government'] abs_discounting jelinek_mercer\n",
      "['black', 'resistance', 'south', 'african', 'government'] dirichlet_prior jelinek_mercer\n",
      "['laser', 'research', 'applicable', 'u', 's', 's', 'strategic', 'defense', 'initiative'] bm25 jelinek_mercer\n",
      "['laser', 'research', 'applicable', 'u', 's', 's', 'strategic', 'defense', 'initiative'] bm25 abs_discounting\n",
      "['laser', 'research', 'applicable', 'u', 's', 's', 'strategic', 'defense', 'initiative'] bm25 dirichlet_prior\n"
     ]
    }
   ],
   "source": [
    "for score1 in scores:\n",
    "    res1 = result_dicts[score1][bests[score1]]\n",
    "    # change map cut to others\n",
    "    values1 = list(sorted(res1['map_cut_10'].items(), key=lambda t: t[1], reverse=True))\n",
    "    for score in scores:\n",
    "        res = result_dicts[score][bests[score]]\n",
    "        values = list(sorted(res['map_cut_10'].items(), key=lambda t: t[1], reverse=True))\n",
    "        v1 = [s for s, _ in values1[:20]]\n",
    "        v = [s for s, _ in values[-40:]]\n",
    "        newset = set(v1) & set(v)\n",
    "        if len(newset) > 0:\n",
    "            print([dictionary.id2token[int(tok)] for a in newset for tok in tokenized_queries[a]], score1, score)\n"
   ]
  },
  {
   "cell_type": "code",
   "execution_count": null,
   "metadata": {
    "collapsed": true
   },
   "outputs": [],
   "source": []
  },
  {
   "cell_type": "markdown",
   "metadata": {},
   "source": [
    "### Task 2: Latent Semantic Models (LSMs) [20 points] ###\n",
    "\n",
    "In this task you will experiment with applying distributional semantics methods ([LSI](http://lsa3.colorado.edu/papers/JASIS.lsi.90.pdf) **[5 points]** and [LDA](https://www.cs.princeton.edu/~blei/papers/BleiNgJordan2003.pdf) **[5 points]**) for retrieval.\n",
    "\n",
    "You do not need to implement LSI or LDA on your own. Instead, you can use [gensim](http://radimrehurek.com/gensim/index.html). An example on how to integrate Pyndri with Gensim for word2vec can be found [here](https://github.com/cvangysel/pyndri/blob/master/examples/word2vec.py). For the remaining latent vector space models, you will need to implement connector classes (such as `IndriSentences`) by yourself.\n",
    "\n",
    "In order to use a latent semantic model for retrieval, you need to:\n",
    "   * build a representation of the query **q**,\n",
    "   * build a representation of the document **d**,\n",
    "   * calculate the similarity between **q** and **d** (e.g., cosine similarity, KL-divergence).\n",
    "     \n",
    "The exact implementation here depends on the latent semantic model you are using. \n",
    "   \n",
    "Each of these LSMs come with various hyperparameters to tune. Make a choice on the parameters, and explicitly mention the reasons that led you to these decisions. You can use the validation set to optimize hyper parameters you see fit; motivate your decisions. In addition, mention clearly how the query/document representations were constructed for each LSM and explain your choices.\n",
    "\n",
    "In this experiment, you will first obtain an initial top-1000 ranking for each query using TF-IDF in **Task 1**, and then re-rank the documents using the LSMs. Use TREC Eval to obtain the results and report on `NDCG@10`, Mean Average Precision (`MAP@1000`), `Precision@5` and `Recall@1000`.\n",
    "\n",
    "Perform significance testing **[5 points]** (similar as in Task 1) in the class of semantic matching methods.\n",
    "\n",
    "Perform analysis **[5 points]**"
   ]
  },
  {
   "cell_type": "code",
   "execution_count": 18,
   "metadata": {
    "collapsed": true
   },
   "outputs": [],
   "source": [
    "# The number of topics means the dimension of representation of each query and each document both in the Lsi and Lda case\n",
    "num_topics = [10, 25, 50]"
   ]
  },
  {
   "cell_type": "code",
   "execution_count": 31,
   "metadata": {
    "collapsed": true
   },
   "outputs": [],
   "source": [
    "# import numpy as np\n",
    "import gensim\n",
    "from scipy import spatial\n",
    "\n",
    "# for the LdaModel the corpus should be a list of docs, where each document is represented as a list of tuples, \n",
    "# where a tuple means a word and number of occurences in the doc\n",
    "my_corpus = []\n",
    "\n",
    "# iterate over the documents\n",
    "for int_doc_id in range(index.document_base(), index.maximum_document()):\n",
    "    # get the external doc ids and the tokens\n",
    "    ext_doc_id, doc_token_ids = index.document(int_doc_id)\n",
    "    # omit the stop words\n",
    "    doc_token_ids = [doc_token_id for doc_token_id in doc_token_ids if doc_token_id > 0]\n",
    "    # build the bag of words model for the document\n",
    "    document_bow = collections.Counter(doc_token_ids).most_common(len(doc_token_ids))\n",
    "    my_corpus.append(document_bow)"
   ]
  },
  {
   "cell_type": "code",
   "execution_count": 29,
   "metadata": {
    "collapsed": true
   },
   "outputs": [],
   "source": [
    "# Trains the lda nodel and saves it with the parameter in its name\n",
    "def train_lda(num_topics):\n",
    "    for num in num_topics:\n",
    "        lda_model = gensim.models.LdaModel(my_corpus, id2word=id2token, minimum_probability=0, alpha='auto', num_topics=num)\n",
    "        lda_model.save('Lda_model_'+str(num)+'.lda')\n"
   ]
  },
  {
   "cell_type": "code",
   "execution_count": 30,
   "metadata": {
    "collapsed": true
   },
   "outputs": [],
   "source": [
    "# Trains the lsi nodel and saves it with the parameter in its name\n",
    "def train_lsi(num_topics):\n",
    "    for num in num_topics:\n",
    "        lsi_models[num] = gensim.models.LsiModel(my_corpus, id2word=id2token, num_topics=num)\n",
    "        lsi_models.save('Lsi_model_'+str(num)+'.lsi')"
   ]
  },
  {
   "cell_type": "code",
   "execution_count": 32,
   "metadata": {},
   "outputs": [],
   "source": [
    "# If you want to retrain the model, uncomment\n",
    "\n",
    "# train_lsi(num_topics)"
   ]
  },
  {
   "cell_type": "code",
   "execution_count": null,
   "metadata": {
    "collapsed": true
   },
   "outputs": [],
   "source": [
    "# If you want to retrain the model, uncomment\n",
    "\n",
    "# train_lda(num_topics)"
   ]
  },
  {
   "cell_type": "code",
   "execution_count": 62,
   "metadata": {
    "collapsed": true
   },
   "outputs": [],
   "source": [
    "# To load the models from file\n",
    "# input parameters: number of topics, topic name\n",
    "def load_model_lda(num, model_name):\n",
    "    model = gensim.models.LdaModel.load(model_name+'_'+num+'.lda')\n",
    "    return model\n",
    "def load_model_lsi(num, model_name):\n",
    "    model = gensim.models.LsiModel.load(model_name+'_'+num+'.lsi')\n",
    "    return model"
   ]
  },
  {
   "cell_type": "code",
   "execution_count": 63,
   "metadata": {},
   "outputs": [],
   "source": [
    "# Loading the lsi models with all the parameters\n",
    "lsi_models = {}\n",
    "for num in num_topics:\n",
    "    lsi_models[num] = load_model_lsi(str(num), 'Lsi_model')"
   ]
  },
  {
   "cell_type": "code",
   "execution_count": 64,
   "metadata": {
    "collapsed": true
   },
   "outputs": [],
   "source": [
    "# Loading the lda models with all the parameters\n",
    "lda_models = {}\n",
    "for num in num_topics:\n",
    "    lda_models[num] = load_model_lda(str(num), 'Lda_model')\n"
   ]
  },
  {
   "cell_type": "code",
   "execution_count": 65,
   "metadata": {
    "collapsed": true
   },
   "outputs": [],
   "source": [
    "# input: pretrained model (including the parameter)\n",
    "# output: representation of all the documents based on the pretrained model\n",
    "def create_repr_for_docs(model):\n",
    "    docs_repr = []\n",
    "    for int_doc_id in range(index.document_base(), index.maximum_document()):\n",
    "        ext_doc_id, doc_token_ids = index.document(int_doc_id)\n",
    "        doc_token_ids = [doc_token_id for doc_token_id in doc_token_ids if doc_token_id > 0]\n",
    "        document_bow = collections.Counter(doc_token_ids).most_common(len(doc_token_ids))\n",
    "        docs_repr.append(model[document_bow])\n",
    "    return docs_repr"
   ]
  },
  {
   "cell_type": "code",
   "execution_count": null,
   "metadata": {
    "scrolled": true
   },
   "outputs": [],
   "source": [
    "import pandas as pd\n",
    "# saving the document representation\n",
    "lda_doc_repr = {}\n",
    "for num in num_topics:\n",
    "    lda_doc_repr[num] = create_repr_for_docs(lda_models[num])\n",
    "    df = pd.DataFrame(lda_doc_repr[num])\n",
    "    df.to_csv('lda_doc_repr_{}.csv'.format(num))"
   ]
  },
  {
   "cell_type": "code",
   "execution_count": null,
   "metadata": {},
   "outputs": [],
   "source": [
    "# saving the document representation\n",
    "lsi_doc_repr = {}\n",
    "for num in num_topics:\n",
    "    lsi_doc_repr[num] = create_repr_for_docs(lsi_models[num])\n",
    "    df = pd.DataFrame(lsi_doc_repr[num])\n",
    "    df.to_csv('lsi_doc_repr_{}.csv'.format(num))"
   ]
  },
  {
   "cell_type": "code",
   "execution_count": 68,
   "metadata": {},
   "outputs": [],
   "source": [
    "# loading the document representations\n",
    "import csv\n",
    "from collections import defaultdict\n",
    "\n",
    "def to_tuple(arr):\n",
    "    res_arr = []\n",
    "    tup = ()\n",
    "    for item in arr:\n",
    "        try:\n",
    "            tup = tuple([float(i.strip()) for i in item.replace('(', '').replace(')','').split(',')])\n",
    "        except Exception:\n",
    "            continue\n",
    "        res_arr.append(tup)\n",
    "    return res_arr\n",
    "\n",
    "lsi_doc_repr = {}\n",
    "lda_doc_repr = {}\n",
    "for num in num_topics:\n",
    "    document_ids = {}\n",
    "    with open('lsi_doc_repr_{}.csv'.format(num), 'r') as csvin:\n",
    "        reader=csv.DictReader(csvin)\n",
    "        data = defaultdict(list)\n",
    "        for i, line in enumerate(reader):\n",
    "            tuples = to_tuple(list(line.values())[1:])\n",
    "            document_ids[i] = tuples\n",
    "    lsi_doc_repr[num] = document_ids\n",
    "\n",
    "    document_ids = {}\n",
    "    with open('lda_doc_repr_{}.csv'.format(num), 'r') as csvin:\n",
    "        reader=csv.DictReader(csvin)\n",
    "        data = defaultdict(list)\n",
    "        for i, line in enumerate(reader):\n",
    "            tuples = to_tuple(list(line.values())[1:])\n",
    "            document_ids[i] = tuples\n",
    "    lda_doc_repr[num] = document_ids"
   ]
  },
  {
   "cell_type": "code",
   "execution_count": 69,
   "metadata": {
    "collapsed": true
   },
   "outputs": [],
   "source": [
    "def cos_similarity(a, b):\n",
    "    # Input: dense representation (a list) of the document and query \n",
    "    # Output: cosine similarity between the vectors \n",
    "    \n",
    "    cos_sim = 1 - spatial.distance.cosine(a, b)\n",
    "    return cos_sim"
   ]
  },
  {
   "cell_type": "code",
   "execution_count": null,
   "metadata": {},
   "outputs": [],
   "source": [
    "def get_cosine_sim(doc_id, query_id, model):\n",
    "    query_count_list = query_term_counts[query_id].most_common(len(query_term_counts[query_id]))\n",
    "    query_model = model[query_count_list]\n",
    "    a = [x[1] for x in query_model]\n",
    "    b = [x[1] for x in lda_docs[doc_id]]\n",
    "    if len(b) < len(a):\n",
    "        b = [0.00001] * len(a)\n",
    "    return cos_similarity(a, b)"
   ]
  },
  {
   "cell_type": "code",
   "execution_count": 70,
   "metadata": {
    "scrolled": true
   },
   "outputs": [],
   "source": [
    "import numpy as np\n",
    "lda_data = {}\n",
    "lsi_data = {}\n",
    "\n",
    "def get_data(lda_model, lda_docs):\n",
    "    # loop through all the queries\n",
    "    data = collections.defaultdict(list)\n",
    "    for query_id in tokenized_queries:\n",
    "        # convert the queries into format that is needed for lda\n",
    "        query_count_list = query_term_counts[query_id].most_common(len(query_term_counts[query_id]))\n",
    "        # calculate the lda representation of the query\n",
    "        query_lda = lda_model[query_count_list]\n",
    "        # convert it to vector format []\n",
    "        a = [x[1] for x in query_lda]\n",
    "        # take the 1000 most relevant docs for the query (based on tf-idf)\n",
    "        most_relevant_doc_ids = top_1000[int(query_id)]\n",
    "        for idx in most_relevant_doc_ids:\n",
    "            b = [x[1] for x in lda_docs[idx]]\n",
    "            if len(b) < len(a):\n",
    "                b = [0.00001] * len(a)\n",
    "            ext_doc_id, _ = index.document(int_doc_id)\n",
    "            # calculate the cosine similarity of the document and query\n",
    "            data[query_id].append((cos_similarity(a, b), ext_doc_id))\n",
    "    return data\n",
    "\n",
    "\n",
    "# writing the results\n",
    "for param in lda_models:\n",
    "    lda_data[param] = get_data(lda_models[param], lda_doc_repr[param])\n",
    "    run_out_path = 'results/{}_{}.run'.format('lda_model', str(param))\n",
    "    with open(run_out_path, 'w') as f_out:\n",
    "        write_run(\n",
    "            model_name='{}_{}'.format('lda_model', str(param)),\n",
    "            data=lda_data[param],\n",
    "            out_f=f_out,\n",
    "            max_objects_per_query=1000)\n",
    "\n",
    "    lsi_data[param] = get_data(lsi_models[param], lsi_doc_repr[param])   \n",
    "    run_out_path = 'results/{}_{}.run'.format('lsi_model', str(param))\n",
    "    with open(run_out_path, 'w') as f_out:\n",
    "        write_run(\n",
    "            model_name='{}_{}'.format('lsi_model', str(param)),\n",
    "            data=lsi_data[param],\n",
    "            out_f=f_out,\n",
    "            max_objects_per_query=1000)"
   ]
  },
  {
   "cell_type": "code",
   "execution_count": 113,
   "metadata": {},
   "outputs": [
    {
     "name": "stdout",
     "output_type": "stream",
     "text": [
      "lda_model [10, 25, 50]\n",
      "lda_model_10\n",
      ".\n",
      "results/lda_model_10.run\n",
      "lda_model_25\n",
      ".\n",
      "results/lda_model_25.run\n",
      "lda_model_50\n",
      ".\n",
      "results/lda_model_50.run\n",
      "[5, 5, 5]\n"
     ]
    },
    {
     "ename": "TypeError",
     "evalue": "'int' object is not subscriptable",
     "output_type": "error",
     "traceback": [
      "\u001b[0;31m---------------------------------------------------------------------------\u001b[0m",
      "\u001b[0;31mTypeError\u001b[0m                                 Traceback (most recent call last)",
      "\u001b[0;32m<ipython-input-113-0df5515778bb>\u001b[0m in \u001b[0;36m<module>\u001b[0;34m()\u001b[0m\n\u001b[1;32m     17\u001b[0m \u001b[0;32mfor\u001b[0m \u001b[0mi\u001b[0m\u001b[0;34m,\u001b[0m \u001b[0mscore\u001b[0m \u001b[0;32min\u001b[0m \u001b[0menumerate\u001b[0m\u001b[0;34m(\u001b[0m\u001b[0mscores\u001b[0m\u001b[0;34m)\u001b[0m\u001b[0;34m:\u001b[0m\u001b[0;34m\u001b[0m\u001b[0m\n\u001b[1;32m     18\u001b[0m     \u001b[0mprint\u001b[0m\u001b[0;34m(\u001b[0m\u001b[0mscore\u001b[0m\u001b[0;34m,\u001b[0m \u001b[0mparams\u001b[0m\u001b[0;34m[\u001b[0m\u001b[0mscore\u001b[0m\u001b[0;34m]\u001b[0m\u001b[0;34m)\u001b[0m\u001b[0;34m\u001b[0m\u001b[0m\n\u001b[0;32m---> 19\u001b[0;31m     \u001b[0mbest\u001b[0m\u001b[0;34m,\u001b[0m \u001b[0mbest_val\u001b[0m\u001b[0;34m,\u001b[0m \u001b[0mbest_param\u001b[0m\u001b[0;34m,\u001b[0m \u001b[0mbest_result\u001b[0m\u001b[0;34m,\u001b[0m \u001b[0mresults\u001b[0m \u001b[0;34m=\u001b[0m \u001b[0mvalidation_best\u001b[0m\u001b[0;34m(\u001b[0m\u001b[0mscore\u001b[0m\u001b[0;34m,\u001b[0m \u001b[0mparams\u001b[0m\u001b[0;34m[\u001b[0m\u001b[0mscore\u001b[0m\u001b[0;34m]\u001b[0m\u001b[0;34m,\u001b[0m \u001b[0mmeasures\u001b[0m\u001b[0;34m,\u001b[0m\u001b[0mvalid\u001b[0m\u001b[0;34m=\u001b[0m\u001b[0;32mFalse\u001b[0m\u001b[0;34m)\u001b[0m\u001b[0;34m\u001b[0m\u001b[0m\n\u001b[0m\u001b[1;32m     20\u001b[0m     \u001b[0mbests\u001b[0m\u001b[0;34m[\u001b[0m\u001b[0mscore\u001b[0m\u001b[0;34m]\u001b[0m \u001b[0;34m=\u001b[0m \u001b[0mbest_param\u001b[0m\u001b[0;34m\u001b[0m\u001b[0m\n\u001b[1;32m     21\u001b[0m     \u001b[0mmeans\u001b[0m \u001b[0;34m=\u001b[0m \u001b[0;34m[\u001b[0m\u001b[0mbest_result\u001b[0m\u001b[0;34m[\u001b[0m\u001b[0mmeasure\u001b[0m\u001b[0;34m]\u001b[0m\u001b[0;34m[\u001b[0m\u001b[0;34m'all'\u001b[0m\u001b[0;34m]\u001b[0m \u001b[0;32mfor\u001b[0m \u001b[0mmeasure\u001b[0m \u001b[0;32min\u001b[0m \u001b[0mmeasures\u001b[0m\u001b[0;34m]\u001b[0m\u001b[0;34m\u001b[0m\u001b[0m\n",
      "\u001b[0;32m<ipython-input-112-006fc433f8f1>\u001b[0m in \u001b[0;36mvalidation_best\u001b[0;34m(score_name, param_list, measures, valid)\u001b[0m\n\u001b[1;32m     14\u001b[0m     \u001b[0;32mfor\u001b[0m \u001b[0mres\u001b[0m \u001b[0;32min\u001b[0m \u001b[0mresult_dicts\u001b[0m\u001b[0;34m:\u001b[0m\u001b[0;34m\u001b[0m\u001b[0m\n\u001b[1;32m     15\u001b[0m \u001b[0;31m#         print(res)\u001b[0m\u001b[0;34m\u001b[0m\u001b[0;34m\u001b[0m\u001b[0m\n\u001b[0;32m---> 16\u001b[0;31m         \u001b[0mvals\u001b[0m\u001b[0;34m.\u001b[0m\u001b[0mappend\u001b[0m\u001b[0;34m(\u001b[0m\u001b[0mres\u001b[0m\u001b[0;34m[\u001b[0m\u001b[0;34m'ndcg_cut_10'\u001b[0m\u001b[0;34m]\u001b[0m\u001b[0;34m[\u001b[0m\u001b[0;34m'all'\u001b[0m\u001b[0;34m]\u001b[0m\u001b[0;34m)\u001b[0m\u001b[0;34m\u001b[0m\u001b[0m\n\u001b[0m\u001b[1;32m     17\u001b[0m     \u001b[0mbest\u001b[0m \u001b[0;34m=\u001b[0m \u001b[0mnp\u001b[0m\u001b[0;34m.\u001b[0m\u001b[0margmax\u001b[0m\u001b[0;34m(\u001b[0m\u001b[0mvals\u001b[0m\u001b[0;34m)\u001b[0m\u001b[0;34m\u001b[0m\u001b[0m\n\u001b[1;32m     18\u001b[0m     \u001b[0;32mreturn\u001b[0m \u001b[0mbest\u001b[0m\u001b[0;34m,\u001b[0m \u001b[0mvals\u001b[0m\u001b[0;34m[\u001b[0m\u001b[0mbest\u001b[0m\u001b[0;34m]\u001b[0m\u001b[0;34m,\u001b[0m \u001b[0mparam_list\u001b[0m\u001b[0;34m[\u001b[0m\u001b[0mbest\u001b[0m\u001b[0;34m]\u001b[0m\u001b[0;34m,\u001b[0m \u001b[0mresult_dicts\u001b[0m\u001b[0;34m[\u001b[0m\u001b[0mbest\u001b[0m\u001b[0;34m]\u001b[0m\u001b[0;34m,\u001b[0m \u001b[0mresult_dicts\u001b[0m\u001b[0;34m\u001b[0m\u001b[0m\n",
      "\u001b[0;31mTypeError\u001b[0m: 'int' object is not subscriptable"
     ]
    }
   ],
   "source": [
    "import matplotlib.pyplot as plt\n",
    "measures = ['ndcg_cut_10', 'map_cut_1000', 'recall_1000', 'P_5']\n",
    "scores = ['lda_model', 'lsi_model']\n",
    "\n",
    "params = {'lda_model': [10, 25, 50],\n",
    "         'lsi_model': [10, 25, 50]}\n",
    "\n",
    "    \n",
    "ind = np.arange(len(measures))\n",
    "width = 0.08\n",
    "colors = ['r', 'g', 'b', 'y', 'k', 'grey', 'purple', 'orange', 'pink']\n",
    "colors = colors + colors + colors + colors\n",
    "fig, ax = plt.subplots()\n",
    "rs = []\n",
    "#evaluation measures on with optimized hyper parameters\n",
    "bests = dict()\n",
    "for i, score in enumerate(scores):\n",
    "    print(score, params[score])\n",
    "    best, best_val, best_param, best_result, results = validation_best(score, params[score], measures,valid=False)\n",
    "    bests[score] = best_param\n",
    "    means = [best_result[measure]['all'] for measure in measures]\n",
    "    rs.append(ax.bar(ind + width*i, means, width, color=colors[i]))\n",
    "# print(bests)\n",
    "ax.legend(rs, scores)\n",
    "ax.set_ylabel('Scores')\n",
    "ax.set_title('Scores measure')\n",
    "ax.set_xticks(ind + width*10 / 2)\n",
    "ax.set_xticklabels(measures)\n",
    "plt.show()\n"
   ]
  },
  {
   "cell_type": "markdown",
   "metadata": {},
   "source": [
    "### Task 3:  Word embeddings for ranking [10 points] ###\n",
    "\n",
    "First create word embeddings on the corpus we provided using [word2vec](http://arxiv.org/abs/1411.2738) -- [gensim implementation](https://radimrehurek.com/gensim/models/word2vec.html). You should extract the indexed documents using pyndri and provide them to gensim for training a model (see example [here](https://github.com/nickvosk/pyndri/blob/master/examples/word2vec.py)).\n",
    "\n",
    "Try one of the following (increasingly complex) methods for building query and document representations:\n",
    "   * Average or sum the word vectors.\n",
    "   * Cluster words in the document using [k-means](http://scikit-learn.org/stable/modules/generated/sklearn.cluster.KMeans.html) and use the centroid of the most important cluster. Experiment with different values of K for k-means.\n",
    "   * Using the [bag-of-word-embeddings representation](https://ciir-publications.cs.umass.edu/pub/web/getpdf.php?id=1248).\n",
    "   \n",
    "Note that since we provide the implementation for training word2vec, you will be graded based on your creativity on combining word embeddings for building query and document representations.\n",
    "\n",
    "Note: If you want to experiment with pre-trained word embeddings on a different corpus, you can use the word embeddings we provide alongside the assignment (./data/reduced_vectors_google.txt). These are the [google word2vec word embeddings](https://code.google.com/archive/p/word2vec/), reduced to only the words that appear in the document collection we use in this assignment."
   ]
  },
  {
   "cell_type": "code",
   "execution_count": null,
   "metadata": {
    "collapsed": true
   },
   "outputs": [],
   "source": []
  },
  {
   "cell_type": "code",
   "execution_count": null,
   "metadata": {
    "collapsed": true
   },
   "outputs": [],
   "source": [
    "%%time\n",
    "import copy\n",
    "import gensim\n",
    "import logging\n",
    "import pyndri\n",
    "import pyndri.compat\n",
    "import sys\n",
    "\n",
    "\n",
    "word2vec_init = gensim.models.Word2Vec(\n",
    "    size=300,  # Embedding size\n",
    "    window=5,  # One-sided window size\n",
    "    sg=True,  # Skip-gram.\n",
    "    min_count=5,  # Minimum word frequency.\n",
    "    sample=1e-3,  # Sub-sample threshold.\n",
    "    hs=False,  # Hierarchical softmax.\n",
    "    negative=10,  # Number of negative examples.\n",
    "    iter=1,  # Number of iterations.\n",
    "    workers=8,  # Number of workers.\n",
    ")\n",
    "\n",
    "with pyndri.open('index/') as index:\n",
    "    logging.info('Loading vocabulary.')\n",
    "    dictionary = pyndri.extract_dictionary(index)\n",
    "    sentences = pyndri.compat.IndriSentences(index, dictionary)\n",
    "\n",
    "    logging.info('Constructing word2vec vocabulary.')\n",
    "\n",
    "    # Build vocab.\n",
    "    word2vec_init.build_vocab(sentences, trim_rule=None)\n",
    "#     print(len(word2vec_init.corpus_count))\n",
    "#     print(len(dictionary))\n",
    "#     print(len(sentences))\n",
    "    models = [word2vec_init]\n",
    "\n",
    "    for epoch in range(1, 5 + 1):\n",
    "        logging.info('Epoch %d', epoch)\n",
    "\n",
    "        model = copy.deepcopy(models[-1])\n",
    "        model.train(sentences, total_examples=len(sentences), epochs=model.iter)\n",
    "\n",
    "        models.append(model)\n",
    "\n",
    "    logging.info('Trained models: %s', models)"
   ]
  },
  {
   "cell_type": "markdown",
   "metadata": {},
   "source": [
    "### Task 4: Learning to rank (LTR) [10 points] ###\n",
    "\n",
    "In this task you will get an introduction into learning to rank for information retrieval, in particular pointwise learning to rank.\n",
    "\n",
    "You will experiment with a pointwise learning to rank method, logistic regression, implemented in [scikit-learn](http://scikit-learn.org/stable/modules/generated/sklearn.linear_model.LogisticRegression.html).\n",
    "Train your LTR model using 10-fold cross validation on the test set.\n",
    "\n",
    "You can explore different ways for devising features for the model. Obviously, you can use the retrieval methods you implemented in Task 1 and Task 2 as features. Think about other features you can use (e.g. query/document length). \n",
    "One idea is to also explore external sources such as Wikipedia entities (?). Creativity on devising new features and providing motivation for them will be taken into account when grading.\n",
    "\n",
    "For every query, first create a document candidate set using the top-1000 documents using TF-IDF, and subsequently compute features given a query and a document. Note that the feature values of different retrieval methods are likely to be distributed differently."
   ]
  },
  {
   "cell_type": "code",
   "execution_count": null,
   "metadata": {
    "collapsed": true
   },
   "outputs": [],
   "source": [
    "import pandas as pd\n",
    "columns = ['query_id', 'session_id', 'ext_doc_id', 'rel']\n",
    "train_data = pd.read_csv('ap_88_89/qrel_test', sep=' ', names = columns)[['query_id', 'ext_doc_id', 'rel']]\n",
    "test_data = pd.read_csv('ap_88_89/qrel_validation', sep=' ', names = columns)[['query_id', 'ext_doc_id', 'rel']]\n",
    "total_data = []\n",
    "for k, v in top_1000.items():\n",
    "    for doc_id in v:\n",
    "        data = {}\n",
    "        data['query_id'] = k\n",
    "        data['ext_doc_id'] = index.ext_document_id(doc_id)\n",
    "        data['rel'] = float('nan')\n",
    "        total_data.append(data)\n",
    "top1000_data = pd.DataFrame(total_data)\n",
    "def prepare_dataset(dataset):\n",
    "    all_results = []\n",
    "    for idx, data in dataset.iterrows():\n",
    "        print(idx)\n",
    "        sample_results = {}\n",
    "        query_id = str(data.query_id)\n",
    "        ext_doc_id = data.ext_doc_id\n",
    "        rel = data.rel\n",
    "        if ext_doc_id in ext2int:\n",
    "            int_doc_id = ext2int[ext_doc_id]\n",
    "            sample_results['ext_doc_id'] = ext_doc_id\n",
    "            sample_results['query_id'] = query_id\n",
    "            sample_results['doc_len'] = document_lengths[int_doc_id]\n",
    "            sample_results['query_len'] = len(tokenized_queries[query_id])\n",
    "            sample_results['tfidf'] = tfidf(int_doc_id, query_id)\n",
    "            sample_results['bm25'] = bm25(int_doc_id, query_id)\n",
    "            sample_results['jelinek_mercer'] = jelinek_mercer(int_doc_id, query_id, lambd=bests['jelinek_mercer'])\n",
    "            sample_results['dirichlet_prior'] = dirichlet_prior(int_doc_id, query_id, mu=bests['dirichlet_prior'])\n",
    "            sample_results['abs_discounting'] = abs_discount(int_doc_id, query_id, delta=bests['abs_discounting'])\n",
    "            sample_results['plm-gauss'] = positional_language_model(int_doc_id, query_id, \n",
    "                                                                    gauss_kernel_table, gauss_integral_table,\n",
    "                                                                   mu=bests['plm-gauss'])\n",
    "            sample_results['plm-triangle'] = positional_language_model(int_doc_id, query_id, \n",
    "                                                                    gauss_kernel_table, gauss_integral_table,\n",
    "                                                                   mu=bests['plm-triangle'])\n",
    "            sample_results['plm-circle'] = positional_language_model(int_doc_id, query_id, \n",
    "                                                                    gauss_kernel_table, gauss_integral_table,\n",
    "                                                                   mu=bests['plm-circle'])\n",
    "            sample_results['plm-cosine'] = positional_language_model(int_doc_id, query_id, \n",
    "                                                                    gauss_kernel_table, gauss_integral_table,\n",
    "                                                                   mu=bests['plm-cosine'])\n",
    "            sample_results['plm-passage'] = positional_language_model(int_doc_id, query_id, \n",
    "                                                                    gauss_kernel_table, gauss_integral_table,\n",
    "                                                                   mu=bests['plm-passage'])\n",
    "            for i in range(2, 11):\n",
    "                sample_results['tfidf^{}'.format(i)] =  np.power(sample_results['tfidf'], i)\n",
    "                sample_results['bm25^{}'.format(i)] = np.power(sample_results['bm25'], i)\n",
    "                sample_results['jelinek_mercer^{}'.format(i)] = np.power(sample_results['jelinek_mercer'], i)\n",
    "                sample_results['dirichlet_prior^{}'.format(i)] = np.power(sample_results['dirichlet_prior'], i)\n",
    "                sample_results['abs_discounting^{}'.format(i)] = np.power(sample_results['abs_discounting'], i)\n",
    "                sample_results['plm-gauss^{}'.format(i)] = np.power(sample_results['plm-gauss'], i)\n",
    "                sample_results['plm-triangle^{}'.format(i)] = np.power(sample_results['plm-triangle'], i)\n",
    "                sample_results['plm-circle^{}'.format(i)] = np.power(sample_results['plm-circle'], i)\n",
    "                sample_results['plm-cosine^{}'.format(i)] = np.power(sample_results['plm-cosine'], i)\n",
    "                sample_results['plm-passage^{}'.format(i)] = np.power(sample_results['plm-passage'], i)\n",
    "            sample_results['rel'] = rel\n",
    "            all_results.append(sample_results)\n",
    "    return pd.DataFrame(all_results)\n",
    "top1000_data = prepare_dataset(top1000_data)\n",
    "top1000_data = top1000_data[list(top1000_data.columns.values)[:-1]]\n",
    "train_data = prepare_dataset(train_data)\n",
    "test_data =  prepare_dataset(test_data)"
   ]
  },
  {
   "cell_type": "code",
   "execution_count": null,
   "metadata": {
    "collapsed": true
   },
   "outputs": [],
   "source": [
    "import pickle\n",
    "pickle.dump(top1000_data, open('top1000_data2.pkl', 'wb'))\n",
    "pickle.dump(train_data, open('train_data.pkl', 'wb'))\n",
    "pickle.dump(test_data, open('test_data.pkl', 'wb'))"
   ]
  },
  {
   "cell_type": "code",
   "execution_count": null,
   "metadata": {
    "collapsed": true
   },
   "outputs": [],
   "source": [
    "top1000_data.to_pickle('top1000_data.pd.pkl')\n",
    "train_data.to_pickle('train_data.pd.pkl')\n",
    "test_data.to_pickle('test_data.pd.pkl')"
   ]
  },
  {
   "cell_type": "code",
   "execution_count": null,
   "metadata": {
    "collapsed": true
   },
   "outputs": [],
   "source": []
  },
  {
   "cell_type": "markdown",
   "metadata": {
    "collapsed": true
   },
   "source": [
    "### Task 4: Write a report [20 points; instant FAIL if not provided] ###\n",
    "\n",
    "The report should be a PDF file created using the [sigconf ACM template](https://www.acm.org/publications/proceedings-template) and will determine a significant part of your grade.\n",
    "\n",
    "   * It should explain what you have implemented, motivate your experiments and detail what you expect to learn from them. **[10 points]**\n",
    "   * Lastly, provide a convincing analysis of your results and conclude the report accordingly. **[10 points]**\n",
    "      * Do all methods perform similarly on all queries? Why?\n",
    "      * Is there a single retrieval model that outperforms all other retrieval models (i.e., silver bullet)?\n",
    "      * ...\n",
    "\n",
    "**Hand in the report and your self-contained implementation source files.** Only send us the files that matter, organized in a well-documented zip/tgz file with clear instructions on how to reproduce your results. That is, we want to be able to regenerate all your results with minimal effort. You can assume that the index and ground-truth information is present in the same file structure as the one we have provided.\n"
   ]
  }
 ],
 "metadata": {
  "anaconda-cloud": {},
  "kernelspec": {
   "display_name": "Python 3",
   "language": "python",
   "name": "python3"
  },
  "language_info": {
   "codemirror_mode": {
    "name": "ipython",
    "version": 3
   },
   "file_extension": ".py",
   "mimetype": "text/x-python",
   "name": "python",
   "nbconvert_exporter": "python",
   "pygments_lexer": "ipython3",
   "version": "3.6.3"
  }
 },
 "nbformat": 4,
 "nbformat_minor": 1
}
